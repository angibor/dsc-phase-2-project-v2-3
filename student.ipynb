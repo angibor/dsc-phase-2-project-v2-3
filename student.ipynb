{
 "cells": [
  {
   "cell_type": "markdown",
   "metadata": {},
   "source": [
    "## Phase 2 Project Submission\n",
    "\n",
    "Please fill out:\n",
    "* Students names: Angella Bor | Jackline Njuguna | Vitelis Siocha | Mwenda Mugambi\n",
    "* Student pace:  Part time "
   ]
  },
  {
   "cell_type": "markdown",
   "metadata": {},
   "source": [
    "# Project Overview\n",
    "\n",
    "In this notebook, we'll conduct a comprehensive analysis of house sales data in a northwestern county using multiple linear regression modeling. Our goal is to gain insights into the factors that affect house prices and develop a predictive model that can estimate the value of homes based on various features.\n",
    "\n",
    "## Stakeholder \n",
    "\n",
    "For this project, we will complete it on behalf of our primary stakeholder \"Weichert Realtors.\" Weichert Realtors specializes in assisting homeowners in buying and selling homes in the northwestern county. \n",
    "\n",
    "## Business Problem\n",
    "\n",
    "**Business Problem:** \n",
    "Weichert Realtors needs to provide valuable advice to homeowners regarding how home renovations may impact the estimated value of their homes and by what amount.\n",
    "\n",
    "**Objective:**\n",
    "- Develop a predictive model that can estimate the effect of different home renovations on the estimated home value.\n",
    "- Provide actionable insights to homeowners about which renovations are likely to yield the highest return on investment (ROI).\n",
    "\n",
    "**Why is this problem important?**\n",
    "Homeowners frequently invest in home renovations to improve their living conditions and increase the value of their properties. However, they often lack guidance on which renovations are the most cost-effective in terms of increasing property value. By addressing this problem, Weichert Realtors can offer valuable guidance to homeowners, strengthen their relationships with clients, and potentially increase their business.\n",
    "\n",
    "**Questions to answer:**\n",
    "1. What influence does the qualitative aspects of a house have on its sale price?\n",
    "2. Is there a correlation between quantitative features and the selling price of a house?\n",
    "3. What suggestions can be made to property investors seeking to optimize their returns from commercial real estate investments?\n"
   ]
  },
  {
   "cell_type": "markdown",
   "metadata": {},
   "source": [
    "# Data Exploration"
   ]
  },
  {
   "cell_type": "markdown",
   "metadata": {},
   "source": [
    "In this section, We'll be going through the data sets we have to understand the structure and determine the ones we'll be using for this project.\n",
    " * We start by importing the libraries and the datasets that will be necessary for the process.\n"
   ]
  },
  {
   "cell_type": "code",
   "execution_count": 1,
   "metadata": {},
   "outputs": [],
   "source": [
    "#Importing the necessary Libraries.\n",
    "import pandas as pd\n",
    "import numpy as np\n",
    "import statsmodels.api as sm\n",
    "import scipy.stats as stats\n",
    "from sklearn.model_selection import train_test_split\n",
    "from sklearn.metrics import mean_absolute_error\n",
    "from sklearn.metrics import mean_squared_error\n",
    "from sklearn.linear_model import LinearRegression\n",
    "import seaborn as sns\n",
    "sns.set_style(\"whitegrid\")\n",
    "import matplotlib.pyplot as plt\n",
    "%matplotlib inline\n",
    "\n",
    "import warnings\n",
    "warnings.filterwarnings(\"ignore\")\n"
   ]
  },
  {
   "cell_type": "code",
   "execution_count": 2,
   "metadata": {
    "scrolled": true
   },
   "outputs": [
    {
     "data": {
      "text/html": [
       "<div>\n",
       "<style scoped>\n",
       "    .dataframe tbody tr th:only-of-type {\n",
       "        vertical-align: middle;\n",
       "    }\n",
       "\n",
       "    .dataframe tbody tr th {\n",
       "        vertical-align: top;\n",
       "    }\n",
       "\n",
       "    .dataframe thead th {\n",
       "        text-align: right;\n",
       "    }\n",
       "</style>\n",
       "<table border=\"1\" class=\"dataframe\">\n",
       "  <thead>\n",
       "    <tr style=\"text-align: right;\">\n",
       "      <th></th>\n",
       "      <th>id</th>\n",
       "      <th>date</th>\n",
       "      <th>price</th>\n",
       "      <th>bedrooms</th>\n",
       "      <th>bathrooms</th>\n",
       "      <th>sqft_living</th>\n",
       "      <th>sqft_lot</th>\n",
       "      <th>floors</th>\n",
       "      <th>waterfront</th>\n",
       "      <th>view</th>\n",
       "      <th>...</th>\n",
       "      <th>grade</th>\n",
       "      <th>sqft_above</th>\n",
       "      <th>sqft_basement</th>\n",
       "      <th>yr_built</th>\n",
       "      <th>yr_renovated</th>\n",
       "      <th>zipcode</th>\n",
       "      <th>lat</th>\n",
       "      <th>long</th>\n",
       "      <th>sqft_living15</th>\n",
       "      <th>sqft_lot15</th>\n",
       "    </tr>\n",
       "  </thead>\n",
       "  <tbody>\n",
       "    <tr>\n",
       "      <th>15361</th>\n",
       "      <td>3271800185</td>\n",
       "      <td>11/21/2014</td>\n",
       "      <td>880000.0</td>\n",
       "      <td>4</td>\n",
       "      <td>1.75</td>\n",
       "      <td>2510</td>\n",
       "      <td>5800</td>\n",
       "      <td>1.0</td>\n",
       "      <td>NO</td>\n",
       "      <td>AVERAGE</td>\n",
       "      <td>...</td>\n",
       "      <td>9 Better</td>\n",
       "      <td>1830</td>\n",
       "      <td>680.0</td>\n",
       "      <td>1953</td>\n",
       "      <td>0.0</td>\n",
       "      <td>98199</td>\n",
       "      <td>47.6480</td>\n",
       "      <td>-122.410</td>\n",
       "      <td>2190</td>\n",
       "      <td>5800</td>\n",
       "    </tr>\n",
       "    <tr>\n",
       "      <th>4828</th>\n",
       "      <td>2591010290</td>\n",
       "      <td>5/19/2014</td>\n",
       "      <td>285000.0</td>\n",
       "      <td>1</td>\n",
       "      <td>1.50</td>\n",
       "      <td>810</td>\n",
       "      <td>3211</td>\n",
       "      <td>2.0</td>\n",
       "      <td>NO</td>\n",
       "      <td>NONE</td>\n",
       "      <td>...</td>\n",
       "      <td>7 Average</td>\n",
       "      <td>810</td>\n",
       "      <td>0.0</td>\n",
       "      <td>1982</td>\n",
       "      <td>0.0</td>\n",
       "      <td>98033</td>\n",
       "      <td>47.6939</td>\n",
       "      <td>-122.184</td>\n",
       "      <td>1320</td>\n",
       "      <td>3298</td>\n",
       "    </tr>\n",
       "    <tr>\n",
       "      <th>14603</th>\n",
       "      <td>9485700175</td>\n",
       "      <td>9/30/2014</td>\n",
       "      <td>310000.0</td>\n",
       "      <td>2</td>\n",
       "      <td>1.00</td>\n",
       "      <td>860</td>\n",
       "      <td>12160</td>\n",
       "      <td>1.0</td>\n",
       "      <td>NO</td>\n",
       "      <td>NONE</td>\n",
       "      <td>...</td>\n",
       "      <td>6 Low Average</td>\n",
       "      <td>860</td>\n",
       "      <td>0.0</td>\n",
       "      <td>1921</td>\n",
       "      <td>NaN</td>\n",
       "      <td>98106</td>\n",
       "      <td>47.5267</td>\n",
       "      <td>-122.361</td>\n",
       "      <td>1010</td>\n",
       "      <td>7611</td>\n",
       "    </tr>\n",
       "    <tr>\n",
       "      <th>2790</th>\n",
       "      <td>9323610260</td>\n",
       "      <td>8/25/2014</td>\n",
       "      <td>828000.0</td>\n",
       "      <td>4</td>\n",
       "      <td>2.50</td>\n",
       "      <td>2120</td>\n",
       "      <td>10841</td>\n",
       "      <td>1.0</td>\n",
       "      <td>NaN</td>\n",
       "      <td>NONE</td>\n",
       "      <td>...</td>\n",
       "      <td>8 Good</td>\n",
       "      <td>1500</td>\n",
       "      <td>620.0</td>\n",
       "      <td>1979</td>\n",
       "      <td>NaN</td>\n",
       "      <td>98006</td>\n",
       "      <td>47.5560</td>\n",
       "      <td>-122.156</td>\n",
       "      <td>3130</td>\n",
       "      <td>10950</td>\n",
       "    </tr>\n",
       "    <tr>\n",
       "      <th>12721</th>\n",
       "      <td>2789000120</td>\n",
       "      <td>4/24/2015</td>\n",
       "      <td>335000.0</td>\n",
       "      <td>2</td>\n",
       "      <td>1.00</td>\n",
       "      <td>1800</td>\n",
       "      <td>8900</td>\n",
       "      <td>1.0</td>\n",
       "      <td>NO</td>\n",
       "      <td>NONE</td>\n",
       "      <td>...</td>\n",
       "      <td>6 Low Average</td>\n",
       "      <td>900</td>\n",
       "      <td>900.0</td>\n",
       "      <td>1945</td>\n",
       "      <td>0.0</td>\n",
       "      <td>98168</td>\n",
       "      <td>47.5100</td>\n",
       "      <td>-122.323</td>\n",
       "      <td>2040</td>\n",
       "      <td>10450</td>\n",
       "    </tr>\n",
       "    <tr>\n",
       "      <th>10640</th>\n",
       "      <td>7893205525</td>\n",
       "      <td>5/27/2014</td>\n",
       "      <td>295832.0</td>\n",
       "      <td>5</td>\n",
       "      <td>1.00</td>\n",
       "      <td>1410</td>\n",
       "      <td>6400</td>\n",
       "      <td>1.0</td>\n",
       "      <td>NO</td>\n",
       "      <td>NONE</td>\n",
       "      <td>...</td>\n",
       "      <td>7 Average</td>\n",
       "      <td>960</td>\n",
       "      <td>450.0</td>\n",
       "      <td>1955</td>\n",
       "      <td>0.0</td>\n",
       "      <td>98198</td>\n",
       "      <td>47.4207</td>\n",
       "      <td>-122.334</td>\n",
       "      <td>1400</td>\n",
       "      <td>6500</td>\n",
       "    </tr>\n",
       "    <tr>\n",
       "      <th>4299</th>\n",
       "      <td>7857001560</td>\n",
       "      <td>9/17/2014</td>\n",
       "      <td>330000.0</td>\n",
       "      <td>3</td>\n",
       "      <td>1.00</td>\n",
       "      <td>1850</td>\n",
       "      <td>5775</td>\n",
       "      <td>2.0</td>\n",
       "      <td>NO</td>\n",
       "      <td>NONE</td>\n",
       "      <td>...</td>\n",
       "      <td>6 Low Average</td>\n",
       "      <td>1740</td>\n",
       "      <td>110.0</td>\n",
       "      <td>1928</td>\n",
       "      <td>0.0</td>\n",
       "      <td>98108</td>\n",
       "      <td>47.5446</td>\n",
       "      <td>-122.296</td>\n",
       "      <td>1520</td>\n",
       "      <td>3578</td>\n",
       "    </tr>\n",
       "    <tr>\n",
       "      <th>2945</th>\n",
       "      <td>9558800025</td>\n",
       "      <td>4/29/2015</td>\n",
       "      <td>225000.0</td>\n",
       "      <td>3</td>\n",
       "      <td>1.00</td>\n",
       "      <td>940</td>\n",
       "      <td>9272</td>\n",
       "      <td>1.0</td>\n",
       "      <td>NaN</td>\n",
       "      <td>NONE</td>\n",
       "      <td>...</td>\n",
       "      <td>7 Average</td>\n",
       "      <td>940</td>\n",
       "      <td>0.0</td>\n",
       "      <td>1954</td>\n",
       "      <td>0.0</td>\n",
       "      <td>98148</td>\n",
       "      <td>47.4353</td>\n",
       "      <td>-122.335</td>\n",
       "      <td>1270</td>\n",
       "      <td>9375</td>\n",
       "    </tr>\n",
       "    <tr>\n",
       "      <th>5262</th>\n",
       "      <td>8856920250</td>\n",
       "      <td>5/30/2014</td>\n",
       "      <td>349900.0</td>\n",
       "      <td>3</td>\n",
       "      <td>2.50</td>\n",
       "      <td>2200</td>\n",
       "      <td>7278</td>\n",
       "      <td>2.0</td>\n",
       "      <td>NO</td>\n",
       "      <td>NONE</td>\n",
       "      <td>...</td>\n",
       "      <td>8 Good</td>\n",
       "      <td>2200</td>\n",
       "      <td>0.0</td>\n",
       "      <td>1990</td>\n",
       "      <td>0.0</td>\n",
       "      <td>98058</td>\n",
       "      <td>47.4624</td>\n",
       "      <td>-122.132</td>\n",
       "      <td>2190</td>\n",
       "      <td>8580</td>\n",
       "    </tr>\n",
       "    <tr>\n",
       "      <th>17822</th>\n",
       "      <td>7697850360</td>\n",
       "      <td>2/4/2015</td>\n",
       "      <td>245000.0</td>\n",
       "      <td>3</td>\n",
       "      <td>2.25</td>\n",
       "      <td>1780</td>\n",
       "      <td>9598</td>\n",
       "      <td>2.0</td>\n",
       "      <td>NO</td>\n",
       "      <td>NONE</td>\n",
       "      <td>...</td>\n",
       "      <td>7 Average</td>\n",
       "      <td>1780</td>\n",
       "      <td>0.0</td>\n",
       "      <td>1985</td>\n",
       "      <td>0.0</td>\n",
       "      <td>98030</td>\n",
       "      <td>47.3718</td>\n",
       "      <td>-122.182</td>\n",
       "      <td>1820</td>\n",
       "      <td>7533</td>\n",
       "    </tr>\n",
       "  </tbody>\n",
       "</table>\n",
       "<p>10 rows × 21 columns</p>\n",
       "</div>"
      ],
      "text/plain": [
       "               id        date     price  bedrooms  bathrooms  sqft_living  \\\n",
       "15361  3271800185  11/21/2014  880000.0         4       1.75         2510   \n",
       "4828   2591010290   5/19/2014  285000.0         1       1.50          810   \n",
       "14603  9485700175   9/30/2014  310000.0         2       1.00          860   \n",
       "2790   9323610260   8/25/2014  828000.0         4       2.50         2120   \n",
       "12721  2789000120   4/24/2015  335000.0         2       1.00         1800   \n",
       "10640  7893205525   5/27/2014  295832.0         5       1.00         1410   \n",
       "4299   7857001560   9/17/2014  330000.0         3       1.00         1850   \n",
       "2945   9558800025   4/29/2015  225000.0         3       1.00          940   \n",
       "5262   8856920250   5/30/2014  349900.0         3       2.50         2200   \n",
       "17822  7697850360    2/4/2015  245000.0         3       2.25         1780   \n",
       "\n",
       "       sqft_lot  floors waterfront     view  ...          grade sqft_above  \\\n",
       "15361      5800     1.0         NO  AVERAGE  ...       9 Better       1830   \n",
       "4828       3211     2.0         NO     NONE  ...      7 Average        810   \n",
       "14603     12160     1.0         NO     NONE  ...  6 Low Average        860   \n",
       "2790      10841     1.0        NaN     NONE  ...         8 Good       1500   \n",
       "12721      8900     1.0         NO     NONE  ...  6 Low Average        900   \n",
       "10640      6400     1.0         NO     NONE  ...      7 Average        960   \n",
       "4299       5775     2.0         NO     NONE  ...  6 Low Average       1740   \n",
       "2945       9272     1.0        NaN     NONE  ...      7 Average        940   \n",
       "5262       7278     2.0         NO     NONE  ...         8 Good       2200   \n",
       "17822      9598     2.0         NO     NONE  ...      7 Average       1780   \n",
       "\n",
       "       sqft_basement yr_built  yr_renovated  zipcode      lat     long  \\\n",
       "15361          680.0     1953           0.0    98199  47.6480 -122.410   \n",
       "4828             0.0     1982           0.0    98033  47.6939 -122.184   \n",
       "14603            0.0     1921           NaN    98106  47.5267 -122.361   \n",
       "2790           620.0     1979           NaN    98006  47.5560 -122.156   \n",
       "12721          900.0     1945           0.0    98168  47.5100 -122.323   \n",
       "10640          450.0     1955           0.0    98198  47.4207 -122.334   \n",
       "4299           110.0     1928           0.0    98108  47.5446 -122.296   \n",
       "2945             0.0     1954           0.0    98148  47.4353 -122.335   \n",
       "5262             0.0     1990           0.0    98058  47.4624 -122.132   \n",
       "17822            0.0     1985           0.0    98030  47.3718 -122.182   \n",
       "\n",
       "       sqft_living15  sqft_lot15  \n",
       "15361           2190        5800  \n",
       "4828            1320        3298  \n",
       "14603           1010        7611  \n",
       "2790            3130       10950  \n",
       "12721           2040       10450  \n",
       "10640           1400        6500  \n",
       "4299            1520        3578  \n",
       "2945            1270        9375  \n",
       "5262            2190        8580  \n",
       "17822           1820        7533  \n",
       "\n",
       "[10 rows x 21 columns]"
      ]
     },
     "execution_count": 2,
     "metadata": {},
     "output_type": "execute_result"
    }
   ],
   "source": [
    "#Importing the data set\n",
    "data = pd.read_csv(\"data/kc_house_data.csv\") \n",
    "data.sample(10)"
   ]
  },
  {
   "cell_type": "code",
   "execution_count": 3,
   "metadata": {},
   "outputs": [
    {
     "data": {
      "text/plain": [
       "(21597, 21)"
      ]
     },
     "execution_count": 3,
     "metadata": {},
     "output_type": "execute_result"
    }
   ],
   "source": [
    "# Checking the shape of our data\n",
    "data.shape"
   ]
  },
  {
   "cell_type": "markdown",
   "metadata": {},
   "source": [
    "We have (21 columns) and (21597) rows"
   ]
  },
  {
   "cell_type": "code",
   "execution_count": 4,
   "metadata": {},
   "outputs": [
    {
     "data": {
      "text/plain": [
       "Index(['id', 'date', 'price', 'bedrooms', 'bathrooms', 'sqft_living',\n",
       "       'sqft_lot', 'floors', 'waterfront', 'view', 'condition', 'grade',\n",
       "       'sqft_above', 'sqft_basement', 'yr_built', 'yr_renovated', 'zipcode',\n",
       "       'lat', 'long', 'sqft_living15', 'sqft_lot15'],\n",
       "      dtype='object')"
      ]
     },
     "execution_count": 4,
     "metadata": {},
     "output_type": "execute_result"
    }
   ],
   "source": [
    "# Checking the columns in our dataframe\n",
    "data.columns"
   ]
  },
  {
   "cell_type": "markdown",
   "metadata": {},
   "source": [
    "#### Getting more insights on what each column represents\n",
    "* `id` - Unique identifier for a house\n",
    "* `date` - Date house was sold\n",
    "* `price` - Sale price (prediction target)\n",
    "* `bedrooms` - Number of bedrooms\n",
    "* `bathrooms` - Number of bathrooms\n",
    "* `sqft_living` - Square footage of living space in the home\n",
    "* `sqft_lot` - Square footage of the lot\n",
    "* `floors` - Number of floors (levels) in house\n",
    "* `waterfront` - Whether the house is on a waterfront\n",
    "* `view` - Quality of view from house\n",
    "* `condition` - How good the overall condition of the house is. Related to maintenance of house.\n",
    "* `grade` - Overall grade of the house. Related to the construction and design of the house.\n",
    "* `sqft_above` - Square footage of house apart from basement\n",
    "* `sqft_basement` - Square footage of the basement\n",
    "* `yr_built` - Year when house was built\n",
    "* `yr_renovated` - Year when house was renovated\n",
    "* `zipcode` - ZIP Code used by the United States Postal Service\n",
    "* `lat` - Latitude coordinate\n",
    "* `long` - Longitude coordinate\n",
    "* `sqft_living15` - The square footage of interior housing living space for the nearest 15 neighbors\n",
    "* `sqft_lot15` - The square footage of the land lots of the nearest 15 neighbors"
   ]
  },
  {
   "cell_type": "markdown",
   "metadata": {},
   "source": [
    "We start by getting a quick overview of our dataset using data.info() which provides a concise summary of essential information about the DataFrame."
   ]
  },
  {
   "cell_type": "code",
   "execution_count": 5,
   "metadata": {
    "scrolled": true
   },
   "outputs": [
    {
     "name": "stdout",
     "output_type": "stream",
     "text": [
      "<class 'pandas.core.frame.DataFrame'>\n",
      "RangeIndex: 21597 entries, 0 to 21596\n",
      "Data columns (total 21 columns):\n",
      " #   Column         Non-Null Count  Dtype  \n",
      "---  ------         --------------  -----  \n",
      " 0   id             21597 non-null  int64  \n",
      " 1   date           21597 non-null  object \n",
      " 2   price          21597 non-null  float64\n",
      " 3   bedrooms       21597 non-null  int64  \n",
      " 4   bathrooms      21597 non-null  float64\n",
      " 5   sqft_living    21597 non-null  int64  \n",
      " 6   sqft_lot       21597 non-null  int64  \n",
      " 7   floors         21597 non-null  float64\n",
      " 8   waterfront     19221 non-null  object \n",
      " 9   view           21534 non-null  object \n",
      " 10  condition      21597 non-null  object \n",
      " 11  grade          21597 non-null  object \n",
      " 12  sqft_above     21597 non-null  int64  \n",
      " 13  sqft_basement  21597 non-null  object \n",
      " 14  yr_built       21597 non-null  int64  \n",
      " 15  yr_renovated   17755 non-null  float64\n",
      " 16  zipcode        21597 non-null  int64  \n",
      " 17  lat            21597 non-null  float64\n",
      " 18  long           21597 non-null  float64\n",
      " 19  sqft_living15  21597 non-null  int64  \n",
      " 20  sqft_lot15     21597 non-null  int64  \n",
      "dtypes: float64(6), int64(9), object(6)\n",
      "memory usage: 3.5+ MB\n"
     ]
    }
   ],
   "source": [
    "# getting a quick overview of our data\n",
    "data.info()"
   ]
  },
  {
   "cell_type": "markdown",
   "metadata": {},
   "source": [
    "* From the output, we can see that a few columns have missing values, such as 'waterfront', 'view' and 'yr_renovated' but there are no duplicate entries.\n",
    "\n",
    "##### What are the really values in the 'sqft_basement'? \n",
    "Our expectation was that the dtypes for this column to be float type, but according to the information above it is an object type. Let's explore it further."
   ]
  },
  {
   "cell_type": "code",
   "execution_count": 6,
   "metadata": {},
   "outputs": [
    {
     "data": {
      "text/plain": [
       "0.0       12826\n",
       "?           454\n",
       "600.0       217\n",
       "500.0       209\n",
       "700.0       208\n",
       "          ...  \n",
       "2400.0        1\n",
       "65.0          1\n",
       "768.0         1\n",
       "1770.0        1\n",
       "506.0         1\n",
       "Name: sqft_basement, Length: 304, dtype: int64"
      ]
     },
     "execution_count": 6,
     "metadata": {},
     "output_type": "execute_result"
    }
   ],
   "source": [
    "data['sqft_basement'].value_counts()"
   ]
  },
  {
   "cell_type": "markdown",
   "metadata": {},
   "source": [
    "The column \"sqft_basement\" contains a place holder \"?\" which needs to be addressed in order to get the correct dtypes. "
   ]
  },
  {
   "cell_type": "markdown",
   "metadata": {},
   "source": [
    "## Data Processing"
   ]
  },
  {
   "cell_type": "markdown",
   "metadata": {},
   "source": [
    "#### Addressing Dtypes issue in \"sqft_basement\"\n",
    "We intend to replace the \"?\" with the mode value of this column."
   ]
  },
  {
   "cell_type": "code",
   "execution_count": 7,
   "metadata": {},
   "outputs": [
    {
     "data": {
      "text/plain": [
       "0    0.0\n",
       "dtype: object"
      ]
     },
     "execution_count": 7,
     "metadata": {},
     "output_type": "execute_result"
    }
   ],
   "source": [
    "# Mode of column \"sqft_basement\"\n",
    "data['sqft_basement'].mode()"
   ]
  },
  {
   "cell_type": "code",
   "execution_count": 8,
   "metadata": {},
   "outputs": [],
   "source": [
    "# Replacing the \"?\" with the mode\n",
    "data['sqft_basement'] = data['sqft_basement'].replace(\"?\", 0.0)\n",
    "# Change the dtype to float type\n",
    "data['sqft_basement'] = data['sqft_basement'].astype(\"float\")\n"
   ]
  },
  {
   "cell_type": "markdown",
   "metadata": {},
   "source": [
    "We now check the entries in these columns and to confirm they have the correct data type entries so that we can choose the best way to handle the missing values."
   ]
  },
  {
   "cell_type": "code",
   "execution_count": 9,
   "metadata": {},
   "outputs": [
    {
     "data": {
      "text/plain": [
       "15646    930.0\n",
       "16830    750.0\n",
       "6496       0.0\n",
       "15253      0.0\n",
       "6433     250.0\n",
       "Name: sqft_basement, dtype: float64"
      ]
     },
     "execution_count": 9,
     "metadata": {},
     "output_type": "execute_result"
    }
   ],
   "source": [
    "data['sqft_basement'].sample(5)"
   ]
  },
  {
   "cell_type": "markdown",
   "metadata": {},
   "source": [
    "### Dealing with the Missing Values\n",
    "We now address missing values observed in the columns mentioned above"
   ]
  },
  {
   "cell_type": "markdown",
   "metadata": {},
   "source": [
    "#### \"Waterfront\" Column"
   ]
  },
  {
   "cell_type": "code",
   "execution_count": 10,
   "metadata": {
    "scrolled": true
   },
   "outputs": [
    {
     "name": "stdout",
     "output_type": "stream",
     "text": [
      "NO     19075\n",
      "YES      146\n",
      "Name: waterfront, dtype: int64\n",
      "Total Missing values:2376\n"
     ]
    }
   ],
   "source": [
    "# Checking see the count of each data value in the Waterfront column\n",
    "print(data[\"waterfront\"].value_counts())\n",
    "\n",
    "# Checking for missing values\n",
    "print(f\"Total Missing values:{data['waterfront'].isna().sum()}\")"
   ]
  },
  {
   "cell_type": "markdown",
   "metadata": {
    "scrolled": true
   },
   "source": [
    "The \"waterfront\" column contains data denoting whether a home is waterfront or not. This data can be later be converted to binary data, indicating whether a home is waterfront (1) or not (0)\n",
    "\n",
    "With the column having missing values. We assume that missing values in this column implies that the properties are not Waterfronts, Homeowners with waterfront homes are more likely to provide this information as compared to those without, who might leave the field blank during the data collection."
   ]
  },
  {
   "cell_type": "code",
   "execution_count": 11,
   "metadata": {
    "scrolled": true
   },
   "outputs": [
    {
     "name": "stdout",
     "output_type": "stream",
     "text": [
      "Total Missing values:0\n"
     ]
    }
   ],
   "source": [
    "# Filling the missing values with (NO)\n",
    "data[\"waterfront\"] = data[\"waterfront\"].fillna(\"NO\")\n",
    "\n",
    "# Confirming our changes worked\n",
    "print(f\"Total Missing values:{data['waterfront'].isna().sum()}\")"
   ]
  },
  {
   "cell_type": "markdown",
   "metadata": {},
   "source": [
    "#### \"View\" Column"
   ]
  },
  {
   "cell_type": "code",
   "execution_count": 12,
   "metadata": {},
   "outputs": [
    {
     "name": "stdout",
     "output_type": "stream",
     "text": [
      "NONE         19422\n",
      "AVERAGE        957\n",
      "GOOD           508\n",
      "FAIR           330\n",
      "EXCELLENT      317\n",
      "Name: view, dtype: int64\n",
      "Total Missing values:63\n"
     ]
    }
   ],
   "source": [
    "# Checking see the count of each data value in the View column\n",
    "print(data[\"view\"].value_counts())\n",
    "\n",
    "# Checking for missing values\n",
    "print(f\"Total Missing values:{data['view'].isna().sum()}\")"
   ]
  },
  {
   "cell_type": "markdown",
   "metadata": {},
   "source": [
    "We see the range of view ratings are from from average to excellent. \n",
    "Majority of the homes are categorized as having no view, specifically labeled as \"NONE.\""
   ]
  },
  {
   "cell_type": "markdown",
   "metadata": {},
   "source": [
    "To deal with the missing values in this column, we'll consider that If a home doesn't possess a significant view, it's likely that respondents skipped or left this section blank. \n",
    "With this logic, tt would be resonable for us to fill the missing values with \"NONE\""
   ]
  },
  {
   "cell_type": "code",
   "execution_count": 13,
   "metadata": {},
   "outputs": [],
   "source": [
    "# Filling the missing values with (NONE)\n",
    "data[\"view\"] = data[\"view\"].fillna(\"NONE\")"
   ]
  },
  {
   "cell_type": "code",
   "execution_count": 14,
   "metadata": {},
   "outputs": [
    {
     "name": "stdout",
     "output_type": "stream",
     "text": [
      "NONE         19485\n",
      "AVERAGE        957\n",
      "GOOD           508\n",
      "FAIR           330\n",
      "EXCELLENT      317\n",
      "Name: view, dtype: int64\n",
      "Total Missing values:0\n"
     ]
    }
   ],
   "source": [
    "print(data[\"view\"].value_counts())\n",
    "# Confirming our changes worked\n",
    "print(f\"Total Missing values:{data['view'].isna().sum()}\")"
   ]
  },
  {
   "cell_type": "markdown",
   "metadata": {},
   "source": [
    "#### \"yr_renovated\" Column"
   ]
  },
  {
   "cell_type": "code",
   "execution_count": 15,
   "metadata": {},
   "outputs": [
    {
     "name": "stdout",
     "output_type": "stream",
     "text": [
      "0.0       17011\n",
      "2014.0       73\n",
      "2003.0       31\n",
      "2013.0       31\n",
      "2007.0       30\n",
      "          ...  \n",
      "1946.0        1\n",
      "1959.0        1\n",
      "1971.0        1\n",
      "1951.0        1\n",
      "1954.0        1\n",
      "Name: yr_renovated, Length: 70, dtype: int64\n",
      "Total Missing values:3842\n"
     ]
    }
   ],
   "source": [
    "# Checking see the count of each data value in the \"yr_renovated\" column\n",
    "print(data[\"yr_renovated\"].value_counts())\n",
    "\n",
    "# Checking for missing values\n",
    "print(f\"Total Missing values:{data['yr_renovated'].isna().sum()}\")"
   ]
  },
  {
   "cell_type": "markdown",
   "metadata": {},
   "source": [
    "This column represents the year of home renovation.\n",
    "\n",
    "The data represents the year as a numerical value. In this context, zero implies that the home has never been renovated. \n",
    "Since zero is the most popular value, we can conclude that the missing values signifies that the home was not renovated. This makes it  reasonable for us to go ahead with this assumption to deal with the missing values."
   ]
  },
  {
   "cell_type": "code",
   "execution_count": 16,
   "metadata": {},
   "outputs": [],
   "source": [
    "# Filling the missing values with (0)\n",
    "data[\"yr_renovated\"] = data[\"yr_renovated\"].fillna(0)"
   ]
  },
  {
   "cell_type": "code",
   "execution_count": 17,
   "metadata": {},
   "outputs": [
    {
     "name": "stdout",
     "output_type": "stream",
     "text": [
      "Total Missing values:0\n"
     ]
    }
   ],
   "source": [
    "# Confirming our changes worked\n",
    "print(f\"Total Missing values:{data['yr_renovated'].isna().sum()}\")"
   ]
  },
  {
   "cell_type": "code",
   "execution_count": 18,
   "metadata": {
    "scrolled": true
   },
   "outputs": [
    {
     "name": "stdout",
     "output_type": "stream",
     "text": [
      "<class 'pandas.core.frame.DataFrame'>\n",
      "RangeIndex: 21597 entries, 0 to 21596\n",
      "Data columns (total 21 columns):\n",
      " #   Column         Non-Null Count  Dtype  \n",
      "---  ------         --------------  -----  \n",
      " 0   id             21597 non-null  int64  \n",
      " 1   date           21597 non-null  object \n",
      " 2   price          21597 non-null  float64\n",
      " 3   bedrooms       21597 non-null  int64  \n",
      " 4   bathrooms      21597 non-null  float64\n",
      " 5   sqft_living    21597 non-null  int64  \n",
      " 6   sqft_lot       21597 non-null  int64  \n",
      " 7   floors         21597 non-null  float64\n",
      " 8   waterfront     21597 non-null  object \n",
      " 9   view           21597 non-null  object \n",
      " 10  condition      21597 non-null  object \n",
      " 11  grade          21597 non-null  object \n",
      " 12  sqft_above     21597 non-null  int64  \n",
      " 13  sqft_basement  21597 non-null  float64\n",
      " 14  yr_built       21597 non-null  int64  \n",
      " 15  yr_renovated   21597 non-null  float64\n",
      " 16  zipcode        21597 non-null  int64  \n",
      " 17  lat            21597 non-null  float64\n",
      " 18  long           21597 non-null  float64\n",
      " 19  sqft_living15  21597 non-null  int64  \n",
      " 20  sqft_lot15     21597 non-null  int64  \n",
      "dtypes: float64(7), int64(9), object(5)\n",
      "memory usage: 3.5+ MB\n"
     ]
    }
   ],
   "source": [
    "# Getting a quick overview of our data to confirm we no longer have missing values\n",
    "data.info()"
   ]
  },
  {
   "cell_type": "markdown",
   "metadata": {},
   "source": [
    "* Great now that we can see we no longer have any missing values."
   ]
  },
  {
   "cell_type": "markdown",
   "metadata": {},
   "source": [
    "Next we can get a quick overview of the distribution and central tendency of the data to get more nsights into the dataset's characteristics"
   ]
  },
  {
   "cell_type": "code",
   "execution_count": 19,
   "metadata": {},
   "outputs": [
    {
     "data": {
      "text/html": [
       "<div>\n",
       "<style scoped>\n",
       "    .dataframe tbody tr th:only-of-type {\n",
       "        vertical-align: middle;\n",
       "    }\n",
       "\n",
       "    .dataframe tbody tr th {\n",
       "        vertical-align: top;\n",
       "    }\n",
       "\n",
       "    .dataframe thead th {\n",
       "        text-align: right;\n",
       "    }\n",
       "</style>\n",
       "<table border=\"1\" class=\"dataframe\">\n",
       "  <thead>\n",
       "    <tr style=\"text-align: right;\">\n",
       "      <th></th>\n",
       "      <th>id</th>\n",
       "      <th>price</th>\n",
       "      <th>bedrooms</th>\n",
       "      <th>bathrooms</th>\n",
       "      <th>sqft_living</th>\n",
       "      <th>sqft_lot</th>\n",
       "      <th>floors</th>\n",
       "      <th>sqft_above</th>\n",
       "      <th>sqft_basement</th>\n",
       "      <th>yr_built</th>\n",
       "      <th>yr_renovated</th>\n",
       "      <th>zipcode</th>\n",
       "      <th>lat</th>\n",
       "      <th>long</th>\n",
       "      <th>sqft_living15</th>\n",
       "      <th>sqft_lot15</th>\n",
       "    </tr>\n",
       "  </thead>\n",
       "  <tbody>\n",
       "    <tr>\n",
       "      <th>count</th>\n",
       "      <td>2.159700e+04</td>\n",
       "      <td>2.159700e+04</td>\n",
       "      <td>21597.000000</td>\n",
       "      <td>21597.000000</td>\n",
       "      <td>21597.000000</td>\n",
       "      <td>2.159700e+04</td>\n",
       "      <td>21597.000000</td>\n",
       "      <td>21597.000000</td>\n",
       "      <td>21597.000000</td>\n",
       "      <td>21597.000000</td>\n",
       "      <td>21597.000000</td>\n",
       "      <td>21597.000000</td>\n",
       "      <td>21597.000000</td>\n",
       "      <td>21597.000000</td>\n",
       "      <td>21597.000000</td>\n",
       "      <td>21597.000000</td>\n",
       "    </tr>\n",
       "    <tr>\n",
       "      <th>mean</th>\n",
       "      <td>4.580474e+09</td>\n",
       "      <td>5.402966e+05</td>\n",
       "      <td>3.373200</td>\n",
       "      <td>2.115826</td>\n",
       "      <td>2080.321850</td>\n",
       "      <td>1.509941e+04</td>\n",
       "      <td>1.494096</td>\n",
       "      <td>1788.596842</td>\n",
       "      <td>285.716581</td>\n",
       "      <td>1970.999676</td>\n",
       "      <td>68.758207</td>\n",
       "      <td>98077.951845</td>\n",
       "      <td>47.560093</td>\n",
       "      <td>-122.213982</td>\n",
       "      <td>1986.620318</td>\n",
       "      <td>12758.283512</td>\n",
       "    </tr>\n",
       "    <tr>\n",
       "      <th>std</th>\n",
       "      <td>2.876736e+09</td>\n",
       "      <td>3.673681e+05</td>\n",
       "      <td>0.926299</td>\n",
       "      <td>0.768984</td>\n",
       "      <td>918.106125</td>\n",
       "      <td>4.141264e+04</td>\n",
       "      <td>0.539683</td>\n",
       "      <td>827.759761</td>\n",
       "      <td>439.819830</td>\n",
       "      <td>29.375234</td>\n",
       "      <td>364.037499</td>\n",
       "      <td>53.513072</td>\n",
       "      <td>0.138552</td>\n",
       "      <td>0.140724</td>\n",
       "      <td>685.230472</td>\n",
       "      <td>27274.441950</td>\n",
       "    </tr>\n",
       "    <tr>\n",
       "      <th>min</th>\n",
       "      <td>1.000102e+06</td>\n",
       "      <td>7.800000e+04</td>\n",
       "      <td>1.000000</td>\n",
       "      <td>0.500000</td>\n",
       "      <td>370.000000</td>\n",
       "      <td>5.200000e+02</td>\n",
       "      <td>1.000000</td>\n",
       "      <td>370.000000</td>\n",
       "      <td>0.000000</td>\n",
       "      <td>1900.000000</td>\n",
       "      <td>0.000000</td>\n",
       "      <td>98001.000000</td>\n",
       "      <td>47.155900</td>\n",
       "      <td>-122.519000</td>\n",
       "      <td>399.000000</td>\n",
       "      <td>651.000000</td>\n",
       "    </tr>\n",
       "    <tr>\n",
       "      <th>25%</th>\n",
       "      <td>2.123049e+09</td>\n",
       "      <td>3.220000e+05</td>\n",
       "      <td>3.000000</td>\n",
       "      <td>1.750000</td>\n",
       "      <td>1430.000000</td>\n",
       "      <td>5.040000e+03</td>\n",
       "      <td>1.000000</td>\n",
       "      <td>1190.000000</td>\n",
       "      <td>0.000000</td>\n",
       "      <td>1951.000000</td>\n",
       "      <td>0.000000</td>\n",
       "      <td>98033.000000</td>\n",
       "      <td>47.471100</td>\n",
       "      <td>-122.328000</td>\n",
       "      <td>1490.000000</td>\n",
       "      <td>5100.000000</td>\n",
       "    </tr>\n",
       "    <tr>\n",
       "      <th>50%</th>\n",
       "      <td>3.904930e+09</td>\n",
       "      <td>4.500000e+05</td>\n",
       "      <td>3.000000</td>\n",
       "      <td>2.250000</td>\n",
       "      <td>1910.000000</td>\n",
       "      <td>7.618000e+03</td>\n",
       "      <td>1.500000</td>\n",
       "      <td>1560.000000</td>\n",
       "      <td>0.000000</td>\n",
       "      <td>1975.000000</td>\n",
       "      <td>0.000000</td>\n",
       "      <td>98065.000000</td>\n",
       "      <td>47.571800</td>\n",
       "      <td>-122.231000</td>\n",
       "      <td>1840.000000</td>\n",
       "      <td>7620.000000</td>\n",
       "    </tr>\n",
       "    <tr>\n",
       "      <th>75%</th>\n",
       "      <td>7.308900e+09</td>\n",
       "      <td>6.450000e+05</td>\n",
       "      <td>4.000000</td>\n",
       "      <td>2.500000</td>\n",
       "      <td>2550.000000</td>\n",
       "      <td>1.068500e+04</td>\n",
       "      <td>2.000000</td>\n",
       "      <td>2210.000000</td>\n",
       "      <td>550.000000</td>\n",
       "      <td>1997.000000</td>\n",
       "      <td>0.000000</td>\n",
       "      <td>98118.000000</td>\n",
       "      <td>47.678000</td>\n",
       "      <td>-122.125000</td>\n",
       "      <td>2360.000000</td>\n",
       "      <td>10083.000000</td>\n",
       "    </tr>\n",
       "    <tr>\n",
       "      <th>max</th>\n",
       "      <td>9.900000e+09</td>\n",
       "      <td>7.700000e+06</td>\n",
       "      <td>33.000000</td>\n",
       "      <td>8.000000</td>\n",
       "      <td>13540.000000</td>\n",
       "      <td>1.651359e+06</td>\n",
       "      <td>3.500000</td>\n",
       "      <td>9410.000000</td>\n",
       "      <td>4820.000000</td>\n",
       "      <td>2015.000000</td>\n",
       "      <td>2015.000000</td>\n",
       "      <td>98199.000000</td>\n",
       "      <td>47.777600</td>\n",
       "      <td>-121.315000</td>\n",
       "      <td>6210.000000</td>\n",
       "      <td>871200.000000</td>\n",
       "    </tr>\n",
       "  </tbody>\n",
       "</table>\n",
       "</div>"
      ],
      "text/plain": [
       "                 id         price      bedrooms     bathrooms   sqft_living  \\\n",
       "count  2.159700e+04  2.159700e+04  21597.000000  21597.000000  21597.000000   \n",
       "mean   4.580474e+09  5.402966e+05      3.373200      2.115826   2080.321850   \n",
       "std    2.876736e+09  3.673681e+05      0.926299      0.768984    918.106125   \n",
       "min    1.000102e+06  7.800000e+04      1.000000      0.500000    370.000000   \n",
       "25%    2.123049e+09  3.220000e+05      3.000000      1.750000   1430.000000   \n",
       "50%    3.904930e+09  4.500000e+05      3.000000      2.250000   1910.000000   \n",
       "75%    7.308900e+09  6.450000e+05      4.000000      2.500000   2550.000000   \n",
       "max    9.900000e+09  7.700000e+06     33.000000      8.000000  13540.000000   \n",
       "\n",
       "           sqft_lot        floors    sqft_above  sqft_basement      yr_built  \\\n",
       "count  2.159700e+04  21597.000000  21597.000000   21597.000000  21597.000000   \n",
       "mean   1.509941e+04      1.494096   1788.596842     285.716581   1970.999676   \n",
       "std    4.141264e+04      0.539683    827.759761     439.819830     29.375234   \n",
       "min    5.200000e+02      1.000000    370.000000       0.000000   1900.000000   \n",
       "25%    5.040000e+03      1.000000   1190.000000       0.000000   1951.000000   \n",
       "50%    7.618000e+03      1.500000   1560.000000       0.000000   1975.000000   \n",
       "75%    1.068500e+04      2.000000   2210.000000     550.000000   1997.000000   \n",
       "max    1.651359e+06      3.500000   9410.000000    4820.000000   2015.000000   \n",
       "\n",
       "       yr_renovated       zipcode           lat          long  sqft_living15  \\\n",
       "count  21597.000000  21597.000000  21597.000000  21597.000000   21597.000000   \n",
       "mean      68.758207  98077.951845     47.560093   -122.213982    1986.620318   \n",
       "std      364.037499     53.513072      0.138552      0.140724     685.230472   \n",
       "min        0.000000  98001.000000     47.155900   -122.519000     399.000000   \n",
       "25%        0.000000  98033.000000     47.471100   -122.328000    1490.000000   \n",
       "50%        0.000000  98065.000000     47.571800   -122.231000    1840.000000   \n",
       "75%        0.000000  98118.000000     47.678000   -122.125000    2360.000000   \n",
       "max     2015.000000  98199.000000     47.777600   -121.315000    6210.000000   \n",
       "\n",
       "          sqft_lot15  \n",
       "count   21597.000000  \n",
       "mean    12758.283512  \n",
       "std     27274.441950  \n",
       "min       651.000000  \n",
       "25%      5100.000000  \n",
       "50%      7620.000000  \n",
       "75%     10083.000000  \n",
       "max    871200.000000  "
      ]
     },
     "execution_count": 19,
     "metadata": {},
     "output_type": "execute_result"
    }
   ],
   "source": [
    "# Getting summary statistics of our dataset\n",
    "data.describe()"
   ]
  },
  {
   "cell_type": "markdown",
   "metadata": {},
   "source": [
    "From the result we can see that\n",
    "* Home prices range from $ 78,000 -  $ 7,700,000\n",
    "* The mean house price in the dataset is approximately $540,296.\n",
    "* Most houses have between 3 and 4 bedrooms on average (mean of approximately 3.37)\n",
    "* There is also a maximum of 33 bedrooms-(This could be an outlier or a data entry error.)\n",
    "* The average number of bathrooms is approximately 2.12, with a range from 0.5 to 8 bathrooms per house.\n",
    "* The houses in the dataset were built over a wide time span, with a mean construction year of around 1971, suggesting both older and newer properties.\n",
    "* Most houses have 1.494 floors on average, with a minimum of 1 floor and a maximum of 3.5 floors.\n",
    "* The 'yr_renovated' column indicates that some houses have been renovated, with the maximum renovation year being 2015. However, a large number of houses have no recorded renovations."
   ]
  },
  {
   "cell_type": "markdown",
   "metadata": {},
   "source": [
    "In order for us to confirm if 33 bedrooms is an outlier, We can use a boxplot."
   ]
  },
  {
   "cell_type": "code",
   "execution_count": 20,
   "metadata": {},
   "outputs": [
    {
     "data": {
      "image/png": "[encoded data removed]",
      "text/plain": [
       "<Figure size 432x288 with 1 Axes>"
      ]
     },
     "metadata": {
      "needs_background": "light"
     },
     "output_type": "display_data"
    }
   ],
   "source": [
    "# Plotting a boxplot\n",
    "plt.boxplot(data[\"bedrooms\"]);"
   ]
  },
  {
   "cell_type": "markdown",
   "metadata": {},
   "source": [
    "In deed we can see that it is an outlier.\n",
    "* In this case, it would be safe to assume that this was a data enty error. 33 instead of 3. We can go ahead to replace 33 with 3. "
   ]
  },
  {
   "cell_type": "code",
   "execution_count": 21,
   "metadata": {},
   "outputs": [
    {
     "data": {
      "text/plain": [
       "11"
      ]
     },
     "execution_count": 21,
     "metadata": {},
     "output_type": "execute_result"
    }
   ],
   "source": [
    "# replaces 33 with 3 \n",
    "data[\"bedrooms\"] = data[\"bedrooms\"].replace(33, 3) \n",
    "\n",
    "# Checking to see if it has been changed\n",
    "data[\"bedrooms\"].max()"
   ]
  },
  {
   "cell_type": "markdown",
   "metadata": {},
   "source": [
    "## Dropping unnecessary columns\n",
    "Based on the questions we want to answer, the 'id', 'date', 'zipcode', 'sqft_living15', 'sqft_lot15', 'lat', 'long' columns will not be essensial in our analysis. We can go ahead and drop them."
   ]
  },
  {
   "cell_type": "code",
   "execution_count": 22,
   "metadata": {
    "scrolled": false
   },
   "outputs": [
    {
     "data": {
      "text/html": [
       "<div>\n",
       "<style scoped>\n",
       "    .dataframe tbody tr th:only-of-type {\n",
       "        vertical-align: middle;\n",
       "    }\n",
       "\n",
       "    .dataframe tbody tr th {\n",
       "        vertical-align: top;\n",
       "    }\n",
       "\n",
       "    .dataframe thead th {\n",
       "        text-align: right;\n",
       "    }\n",
       "</style>\n",
       "<table border=\"1\" class=\"dataframe\">\n",
       "  <thead>\n",
       "    <tr style=\"text-align: right;\">\n",
       "      <th></th>\n",
       "      <th>price</th>\n",
       "      <th>bedrooms</th>\n",
       "      <th>bathrooms</th>\n",
       "      <th>sqft_living</th>\n",
       "      <th>sqft_lot</th>\n",
       "      <th>floors</th>\n",
       "      <th>waterfront</th>\n",
       "      <th>view</th>\n",
       "      <th>condition</th>\n",
       "      <th>grade</th>\n",
       "      <th>sqft_above</th>\n",
       "      <th>sqft_basement</th>\n",
       "      <th>yr_built</th>\n",
       "      <th>yr_renovated</th>\n",
       "    </tr>\n",
       "  </thead>\n",
       "  <tbody>\n",
       "    <tr>\n",
       "      <th>0</th>\n",
       "      <td>221900.0</td>\n",
       "      <td>3</td>\n",
       "      <td>1.00</td>\n",
       "      <td>1180</td>\n",
       "      <td>5650</td>\n",
       "      <td>1.0</td>\n",
       "      <td>NO</td>\n",
       "      <td>NONE</td>\n",
       "      <td>Average</td>\n",
       "      <td>7 Average</td>\n",
       "      <td>1180</td>\n",
       "      <td>0.0</td>\n",
       "      <td>1955</td>\n",
       "      <td>0.0</td>\n",
       "    </tr>\n",
       "    <tr>\n",
       "      <th>1</th>\n",
       "      <td>538000.0</td>\n",
       "      <td>3</td>\n",
       "      <td>2.25</td>\n",
       "      <td>2570</td>\n",
       "      <td>7242</td>\n",
       "      <td>2.0</td>\n",
       "      <td>NO</td>\n",
       "      <td>NONE</td>\n",
       "      <td>Average</td>\n",
       "      <td>7 Average</td>\n",
       "      <td>2170</td>\n",
       "      <td>400.0</td>\n",
       "      <td>1951</td>\n",
       "      <td>1991.0</td>\n",
       "    </tr>\n",
       "    <tr>\n",
       "      <th>2</th>\n",
       "      <td>180000.0</td>\n",
       "      <td>2</td>\n",
       "      <td>1.00</td>\n",
       "      <td>770</td>\n",
       "      <td>10000</td>\n",
       "      <td>1.0</td>\n",
       "      <td>NO</td>\n",
       "      <td>NONE</td>\n",
       "      <td>Average</td>\n",
       "      <td>6 Low Average</td>\n",
       "      <td>770</td>\n",
       "      <td>0.0</td>\n",
       "      <td>1933</td>\n",
       "      <td>0.0</td>\n",
       "    </tr>\n",
       "    <tr>\n",
       "      <th>3</th>\n",
       "      <td>604000.0</td>\n",
       "      <td>4</td>\n",
       "      <td>3.00</td>\n",
       "      <td>1960</td>\n",
       "      <td>5000</td>\n",
       "      <td>1.0</td>\n",
       "      <td>NO</td>\n",
       "      <td>NONE</td>\n",
       "      <td>Very Good</td>\n",
       "      <td>7 Average</td>\n",
       "      <td>1050</td>\n",
       "      <td>910.0</td>\n",
       "      <td>1965</td>\n",
       "      <td>0.0</td>\n",
       "    </tr>\n",
       "    <tr>\n",
       "      <th>4</th>\n",
       "      <td>510000.0</td>\n",
       "      <td>3</td>\n",
       "      <td>2.00</td>\n",
       "      <td>1680</td>\n",
       "      <td>8080</td>\n",
       "      <td>1.0</td>\n",
       "      <td>NO</td>\n",
       "      <td>NONE</td>\n",
       "      <td>Average</td>\n",
       "      <td>8 Good</td>\n",
       "      <td>1680</td>\n",
       "      <td>0.0</td>\n",
       "      <td>1987</td>\n",
       "      <td>0.0</td>\n",
       "    </tr>\n",
       "    <tr>\n",
       "      <th>5</th>\n",
       "      <td>1230000.0</td>\n",
       "      <td>4</td>\n",
       "      <td>4.50</td>\n",
       "      <td>5420</td>\n",
       "      <td>101930</td>\n",
       "      <td>1.0</td>\n",
       "      <td>NO</td>\n",
       "      <td>NONE</td>\n",
       "      <td>Average</td>\n",
       "      <td>11 Excellent</td>\n",
       "      <td>3890</td>\n",
       "      <td>1530.0</td>\n",
       "      <td>2001</td>\n",
       "      <td>0.0</td>\n",
       "    </tr>\n",
       "    <tr>\n",
       "      <th>6</th>\n",
       "      <td>257500.0</td>\n",
       "      <td>3</td>\n",
       "      <td>2.25</td>\n",
       "      <td>1715</td>\n",
       "      <td>6819</td>\n",
       "      <td>2.0</td>\n",
       "      <td>NO</td>\n",
       "      <td>NONE</td>\n",
       "      <td>Average</td>\n",
       "      <td>7 Average</td>\n",
       "      <td>1715</td>\n",
       "      <td>0.0</td>\n",
       "      <td>1995</td>\n",
       "      <td>0.0</td>\n",
       "    </tr>\n",
       "  </tbody>\n",
       "</table>\n",
       "</div>"
      ],
      "text/plain": [
       "       price  bedrooms  bathrooms  sqft_living  sqft_lot  floors waterfront  \\\n",
       "0   221900.0         3       1.00         1180      5650     1.0         NO   \n",
       "1   538000.0         3       2.25         2570      7242     2.0         NO   \n",
       "2   180000.0         2       1.00          770     10000     1.0         NO   \n",
       "3   604000.0         4       3.00         1960      5000     1.0         NO   \n",
       "4   510000.0         3       2.00         1680      8080     1.0         NO   \n",
       "5  1230000.0         4       4.50         5420    101930     1.0         NO   \n",
       "6   257500.0         3       2.25         1715      6819     2.0         NO   \n",
       "\n",
       "   view  condition          grade  sqft_above  sqft_basement  yr_built  \\\n",
       "0  NONE    Average      7 Average        1180            0.0      1955   \n",
       "1  NONE    Average      7 Average        2170          400.0      1951   \n",
       "2  NONE    Average  6 Low Average         770            0.0      1933   \n",
       "3  NONE  Very Good      7 Average        1050          910.0      1965   \n",
       "4  NONE    Average         8 Good        1680            0.0      1987   \n",
       "5  NONE    Average   11 Excellent        3890         1530.0      2001   \n",
       "6  NONE    Average      7 Average        1715            0.0      1995   \n",
       "\n",
       "   yr_renovated  \n",
       "0           0.0  \n",
       "1        1991.0  \n",
       "2           0.0  \n",
       "3           0.0  \n",
       "4           0.0  \n",
       "5           0.0  \n",
       "6           0.0  "
      ]
     },
     "execution_count": 22,
     "metadata": {},
     "output_type": "execute_result"
    }
   ],
   "source": [
    "# Dropping the columns and assigning it to a new dataframe variable\n",
    "new_data = data.drop(['id','date','zipcode', 'sqft_living15', 'sqft_lot15', 'lat', 'long'], axis=1)\n",
    "new_data.head(7)"
   ]
  },
  {
   "cell_type": "markdown",
   "metadata": {},
   "source": [
    "### Checking for Duplicates"
   ]
  },
  {
   "cell_type": "code",
   "execution_count": 23,
   "metadata": {},
   "outputs": [
    {
     "name": "stdout",
     "output_type": "stream",
     "text": [
      "The Data has 8 duplicated rows.\n",
      "This constitutes 0.037% of the data set.\n"
     ]
    }
   ],
   "source": [
    "#finding total number of duplicates\n",
    "# Duplicated entries\n",
    "def identify_duplicates(new_data):\n",
    "    \"\"\"Simple function to identify any duplicates\"\"\"\n",
    "    # identify the duplicates (dataframename.duplicated() , can add .sum() to get total count)\n",
    "    # empty list to store Bool results from duplicated\n",
    "    duplicates = []\n",
    "    for i in new_data.duplicated():\n",
    "        duplicates.append(i)\n",
    "    # identify if there is any duplicates. (If there is any we expect a True value in the list duplicates)\n",
    "    duplicates_set = set(duplicates)\n",
    "    if (len(duplicates_set) == 1):\n",
    "        print(\"The Data has no duplicates\")\n",
    "    else:\n",
    "        no_true = 0\n",
    "        for val in duplicates:\n",
    "            if (val == True):\n",
    "                no_true += 1\n",
    "        # percentage of the data represented by duplicates\n",
    "        duplicates_percentage = np.round(((no_true / len(new_data)) * 100), 3)\n",
    "        print(f\"The Data has {no_true} duplicated rows.\\nThis constitutes {duplicates_percentage}% of the data set.\")\n",
    "identify_duplicates(new_data)"
   ]
  },
  {
   "cell_type": "markdown",
   "metadata": {},
   "source": [
    "#### Dropping Duplicate rows"
   ]
  },
  {
   "cell_type": "code",
   "execution_count": 24,
   "metadata": {},
   "outputs": [],
   "source": [
    "# Drop rows that are duplicated based on all columns\n",
    "new_data = new_data.drop_duplicates()"
   ]
  },
  {
   "cell_type": "markdown",
   "metadata": {},
   "source": [
    "### How are the features Distributed?\n",
    "Now that we've dropped the unnecessary we can visualize the features are distributed"
   ]
  },
  {
   "cell_type": "markdown",
   "metadata": {},
   "source": [
    "* We start by looking at the distribution of the house prices."
   ]
  },
  {
   "cell_type": "code",
   "execution_count": 25,
   "metadata": {
    "scrolled": true
   },
   "outputs": [
    {
     "data": {
      "image/png": "[encoded data removed]",
      "text/plain": [
       "<Figure size 864x360 with 1 Axes>"
      ]
     },
     "metadata": {
      "needs_background": "light"
     },
     "output_type": "display_data"
    }
   ],
   "source": [
    "# Create a distribution plot of the target variable \"price\"\n",
    "plt.figure(figsize=(12, 5))\n",
    "sns.histplot(new_data.sample(2000), x=\"price\", kde=True, color='green')\n",
    "\n",
    "# Set labels and title\n",
    "plt.xlabel(\"Price\")\n",
    "plt.ylabel('Frequency')\n",
    "plt.title(\"Distribution of House Prices with Kernel Density Estimate\");"
   ]
  },
  {
   "cell_type": "markdown",
   "metadata": {},
   "source": [
    "* We also look at the distribution of other features."
   ]
  },
  {
   "cell_type": "code",
   "execution_count": 26,
   "metadata": {},
   "outputs": [
    {
     "data": {
      "image/png": "[encoded data removed]",
      "text/plain": [
       "<Figure size 1512x1296 with 12 Axes>"
      ]
     },
     "metadata": {
      "needs_background": "light"
     },
     "output_type": "display_data"
    }
   ],
   "source": [
    "# Distibution of other column variables \n",
    "def histo(new_data):\n",
    "    return new_data.hist(figsize=(21,18))\n",
    "histo(new_data);"
   ]
  },
  {
   "cell_type": "markdown",
   "metadata": {},
   "source": [
    "## EXPLORATORY DATA ANALYSIS"
   ]
  },
  {
   "cell_type": "markdown",
   "metadata": {},
   "source": [
    "#### How does the house price relate with continuous features? Let's see."
   ]
  },
  {
   "cell_type": "markdown",
   "metadata": {},
   "source": [
    "#### Relationship Between Price and Number of Bedrooms"
   ]
  },
  {
   "cell_type": "code",
   "execution_count": 27,
   "metadata": {},
   "outputs": [
    {
     "data": {
      "image/png": "[encoded data removed]",
      "text/plain": [
       "<Figure size 432x288 with 1 Axes>"
      ]
     },
     "metadata": {
      "needs_background": "light"
     },
     "output_type": "display_data"
    }
   ],
   "source": [
    "# plot of House Price vs. Number of Bedrooms\n",
    "sns.scatterplot(data=new_data, x='bedrooms', y='price')\n",
    "plt.xlabel('Number of Bedrooms')\n",
    "plt.ylabel('House Price')\n",
    "plt.title('Scatter Plot of House Price vs. Number of Bedrooms')\n",
    "plt.show()"
   ]
  },
  {
   "cell_type": "markdown",
   "metadata": {},
   "source": [
    "The price of the house increases with the increase in the number of bedrooms it contains. However as the number of bedrooms reach 6, the price starts to fall."
   ]
  },
  {
   "cell_type": "markdown",
   "metadata": {},
   "source": [
    "#### Relationship Between Price and Number of Bathrooms"
   ]
  },
  {
   "cell_type": "code",
   "execution_count": 28,
   "metadata": {},
   "outputs": [
    {
     "data": {
      "image/png": "[encoded data removed]",
      "text/plain": [
       "<Figure size 432x288 with 1 Axes>"
      ]
     },
     "metadata": {
      "needs_background": "light"
     },
     "output_type": "display_data"
    }
   ],
   "source": [
    "# plot of House Price vs. Number of Bathrooms\n",
    "sns.scatterplot(data=new_data, x='bathrooms', y='price')\n",
    "plt.xlabel('Number of Bathrooms')\n",
    "plt.ylabel('House Price')\n",
    "plt.title('Scatter Plot of House Price vs. Number of Bathrooms')\n",
    "plt.show()"
   ]
  },
  {
   "cell_type": "markdown",
   "metadata": {},
   "source": [
    "The visualization result shows a positive linear relationship between the number of bathrooms the house has and its selling price. The more the bedrooms, the higher the house prices."
   ]
  },
  {
   "cell_type": "markdown",
   "metadata": {},
   "source": [
    "#### Relationship Between Price and Square footage of living space in the home"
   ]
  },
  {
   "cell_type": "code",
   "execution_count": 29,
   "metadata": {},
   "outputs": [
    {
     "data": {
      "image/png": "[encoded data removed]",
      "text/plain": [
       "<Figure size 432x288 with 1 Axes>"
      ]
     },
     "metadata": {
      "needs_background": "light"
     },
     "output_type": "display_data"
    }
   ],
   "source": [
    "# plot of House Price vs. Square footage size\n",
    "sns.scatterplot(data=new_data, x='sqft_living', y='price')\n",
    "plt.xlabel('Square footage of living space in the home')\n",
    "plt.ylabel('House Price')\n",
    "plt.title('Scatter Plot of House Price vs. Square footage of living space in the home')\n",
    "plt.show()"
   ]
  },
  {
   "cell_type": "markdown",
   "metadata": {},
   "source": [
    "The plot shows a positive linear correlation between the house price and its square footage size. Houses with larger Square footage of living space in the home are sold at higher prices."
   ]
  },
  {
   "cell_type": "markdown",
   "metadata": {},
   "source": [
    "#### Relationship Between Price and Square footage of house apart from basement"
   ]
  },
  {
   "cell_type": "code",
   "execution_count": 30,
   "metadata": {},
   "outputs": [
    {
     "data": {
      "image/png": "[encoded data removed]",
      "text/plain": [
       "<Figure size 432x288 with 1 Axes>"
      ]
     },
     "metadata": {
      "needs_background": "light"
     },
     "output_type": "display_data"
    }
   ],
   "source": [
    "# plot of House Price vs. Square footage size\n",
    "sns.scatterplot(data=new_data, x='sqft_above', y='price')\n",
    "plt.xlabel('Square footage of house apart from basement')\n",
    "plt.ylabel('House Price')\n",
    "plt.title('Scatter Plot of House Price vs. Square footage of house apart from basement')\n",
    "plt.show()"
   ]
  },
  {
   "cell_type": "markdown",
   "metadata": {},
   "source": [
    "The price of the house increase with the increase in the square footage of a house apart from the square basement, indicating positive linear relationship."
   ]
  },
  {
   "cell_type": "markdown",
   "metadata": {},
   "source": [
    "#### Relationship Between Price vs Square footage of the basement"
   ]
  },
  {
   "cell_type": "code",
   "execution_count": 31,
   "metadata": {},
   "outputs": [
    {
     "data": {
      "image/png": "[encoded data removed]",
      "text/plain": [
       "<Figure size 432x288 with 1 Axes>"
      ]
     },
     "metadata": {
      "needs_background": "light"
     },
     "output_type": "display_data"
    }
   ],
   "source": [
    "# plot of House Price vs. Square footage size\n",
    "sns.scatterplot(data=new_data, x='sqft_basement', y='price')\n",
    "plt.xlabel('Square footage of the basement')\n",
    "plt.ylabel('House Price')\n",
    "plt.title('Scatter Plot of House Price vs. Square footage of the basement')\n",
    "plt.show()"
   ]
  },
  {
   "cell_type": "markdown",
   "metadata": {},
   "source": [
    "According to this scatter plot, there is positive linear correlation between the price of the house and the square footage of the basement. This implies that increasing the basement can also lead to a house being sold. Nevertheless, there are some outliers. "
   ]
  },
  {
   "cell_type": "markdown",
   "metadata": {},
   "source": [
    "#### Relationship Between Price vs Number of floors (levels) in house"
   ]
  },
  {
   "cell_type": "code",
   "execution_count": 32,
   "metadata": {},
   "outputs": [
    {
     "data": {
      "image/png": "[encoded data removed]",
      "text/plain": [
       "<Figure size 432x288 with 1 Axes>"
      ]
     },
     "metadata": {
      "needs_background": "light"
     },
     "output_type": "display_data"
    }
   ],
   "source": [
    "# plot of House Price vs. Square footage size\n",
    "sns.scatterplot(data=new_data, x='floors', y='price')\n",
    "plt.xlabel('Number of floors (levels) in house')\n",
    "plt.ylabel('House Price')\n",
    "plt.title('Scatter Plot of House Price vs. Number of floors (levels) in house')\n",
    "plt.show()"
   ]
  },
  {
   "cell_type": "markdown",
   "metadata": {},
   "source": [
    "#### Relationship Between Price vs Square footage of the lot"
   ]
  },
  {
   "cell_type": "code",
   "execution_count": 33,
   "metadata": {},
   "outputs": [
    {
     "data": {
      "image/png": "[encoded data removed]",
      "text/plain": [
       "<Figure size 432x288 with 1 Axes>"
      ]
     },
     "metadata": {
      "needs_background": "light"
     },
     "output_type": "display_data"
    }
   ],
   "source": [
    "# plot of House Price vs. Square footage size\n",
    "sns.scatterplot(data=new_data, x='sqft_lot', y='price')\n",
    "plt.xlabel('Square footage of the lot')\n",
    "plt.ylabel('House Price')\n",
    "plt.title('Scatter Plot of House Price vs. Square footage of the lot')\n",
    "plt.show()"
   ]
  },
  {
   "cell_type": "markdown",
   "metadata": {},
   "source": [
    "#### How does the house price relate with qualitative features? Let's explore and see. "
   ]
  },
  {
   "cell_type": "markdown",
   "metadata": {},
   "source": [
    "#### Relationship house views condition and price"
   ]
  },
  {
   "cell_type": "code",
   "execution_count": 34,
   "metadata": {},
   "outputs": [
    {
     "data": {
      "image/png": "[encoded data removed]",
      "text/plain": [
       "<Figure size 432x288 with 1 Axes>"
      ]
     },
     "metadata": {
      "needs_background": "light"
     },
     "output_type": "display_data"
    }
   ],
   "source": [
    "#Plotting a barplot of 'view' against 'price'\n",
    "sns.barplot(x=new_data['view'], y=new_data['price']).set(title='Number of Views Vs Price');"
   ]
  },
  {
   "cell_type": "markdown",
   "metadata": {},
   "source": [
    "Houses with good rating views have higher or better prices"
   ]
  },
  {
   "cell_type": "markdown",
   "metadata": {},
   "source": [
    "#### Relationship Between House condition and price"
   ]
  },
  {
   "cell_type": "code",
   "execution_count": 35,
   "metadata": {},
   "outputs": [
    {
     "data": {
      "image/png": "[encoded data removed]",
      "text/plain": [
       "<Figure size 432x288 with 1 Axes>"
      ]
     },
     "metadata": {
      "needs_background": "light"
     },
     "output_type": "display_data"
    }
   ],
   "source": [
    "#Plotting a barplot of 'condition' against 'price'\n",
    "sns.barplot(x=new_data['condition'], y=new_data['price']).set(title='House conditions Vs Price');"
   ]
  },
  {
   "cell_type": "markdown",
   "metadata": {},
   "source": [
    "Houses with better conditions are sold at good prices"
   ]
  },
  {
   "cell_type": "markdown",
   "metadata": {},
   "source": [
    "#### Relationship Between grade of the house and price"
   ]
  },
  {
   "cell_type": "code",
   "execution_count": 36,
   "metadata": {},
   "outputs": [
    {
     "data": {
      "image/png": "[encoded data removed]",
      "text/plain": [
       "<Figure size 432x288 with 1 Axes>"
      ]
     },
     "metadata": {
      "needs_background": "light"
     },
     "output_type": "display_data"
    }
   ],
   "source": [
    "#Plotting a barplot of 'grade' against 'price'\n",
    "sns.barplot(x=new_data['grade'], y=new_data['price']).set(title='Different House grades Vs Price')\n",
    "# Rotate x-axis labels by 90 degrees\n",
    "plt.xticks(rotation=90)\n",
    "\n",
    "# Show the plot\n",
    "plt.show();"
   ]
  },
  {
   "cell_type": "markdown",
   "metadata": {},
   "source": [
    "Houses graded as \"Mansion,\" \"Luxury,\" and \"Excellent\" exhibit the highest prices, while those categorized as \"Low,\" \"Poor,\" and \"Fair\" demonstrate the lowest prices. Grades in between display varying price levels."
   ]
  },
  {
   "cell_type": "markdown",
   "metadata": {},
   "source": [
    "#### Relationship Between house with waterfronts and price"
   ]
  },
  {
   "cell_type": "code",
   "execution_count": 37,
   "metadata": {},
   "outputs": [
    {
     "data": {
      "image/png": "[encoded data removed]",
      "text/plain": [
       "<Figure size 432x288 with 1 Axes>"
      ]
     },
     "metadata": {
      "needs_background": "light"
     },
     "output_type": "display_data"
    }
   ],
   "source": [
    "#Plotting a barplot of 'waterfront' against 'price'\n",
    "sns.barplot(x=new_data['waterfront'], y=new_data['price']).set(title='Waterfronts Vs Price');"
   ]
  },
  {
   "cell_type": "markdown",
   "metadata": {},
   "source": [
    "Houses with waterfronts have extremely high prices"
   ]
  },
  {
   "cell_type": "markdown",
   "metadata": {},
   "source": [
    "### Encoding Categorical Data\n",
    "#### View\n"
   ]
  },
  {
   "cell_type": "code",
   "execution_count": 38,
   "metadata": {},
   "outputs": [
    {
     "data": {
      "text/html": [
       "<div>\n",
       "<style scoped>\n",
       "    .dataframe tbody tr th:only-of-type {\n",
       "        vertical-align: middle;\n",
       "    }\n",
       "\n",
       "    .dataframe tbody tr th {\n",
       "        vertical-align: top;\n",
       "    }\n",
       "\n",
       "    .dataframe thead th {\n",
       "        text-align: right;\n",
       "    }\n",
       "</style>\n",
       "<table border=\"1\" class=\"dataframe\">\n",
       "  <thead>\n",
       "    <tr style=\"text-align: right;\">\n",
       "      <th></th>\n",
       "      <th>price</th>\n",
       "      <th>bedrooms</th>\n",
       "      <th>bathrooms</th>\n",
       "      <th>sqft_living</th>\n",
       "      <th>sqft_lot</th>\n",
       "      <th>floors</th>\n",
       "      <th>waterfront</th>\n",
       "      <th>view</th>\n",
       "      <th>condition</th>\n",
       "      <th>grade</th>\n",
       "      <th>sqft_above</th>\n",
       "      <th>sqft_basement</th>\n",
       "      <th>yr_built</th>\n",
       "      <th>yr_renovated</th>\n",
       "    </tr>\n",
       "  </thead>\n",
       "  <tbody>\n",
       "    <tr>\n",
       "      <th>0</th>\n",
       "      <td>221900.0</td>\n",
       "      <td>3</td>\n",
       "      <td>1.00</td>\n",
       "      <td>1180</td>\n",
       "      <td>5650</td>\n",
       "      <td>1.0</td>\n",
       "      <td>NO</td>\n",
       "      <td>NONE</td>\n",
       "      <td>Average</td>\n",
       "      <td>7 Average</td>\n",
       "      <td>1180</td>\n",
       "      <td>0.0</td>\n",
       "      <td>1955</td>\n",
       "      <td>0.0</td>\n",
       "    </tr>\n",
       "    <tr>\n",
       "      <th>1</th>\n",
       "      <td>538000.0</td>\n",
       "      <td>3</td>\n",
       "      <td>2.25</td>\n",
       "      <td>2570</td>\n",
       "      <td>7242</td>\n",
       "      <td>2.0</td>\n",
       "      <td>NO</td>\n",
       "      <td>NONE</td>\n",
       "      <td>Average</td>\n",
       "      <td>7 Average</td>\n",
       "      <td>2170</td>\n",
       "      <td>400.0</td>\n",
       "      <td>1951</td>\n",
       "      <td>1991.0</td>\n",
       "    </tr>\n",
       "    <tr>\n",
       "      <th>2</th>\n",
       "      <td>180000.0</td>\n",
       "      <td>2</td>\n",
       "      <td>1.00</td>\n",
       "      <td>770</td>\n",
       "      <td>10000</td>\n",
       "      <td>1.0</td>\n",
       "      <td>NO</td>\n",
       "      <td>NONE</td>\n",
       "      <td>Average</td>\n",
       "      <td>6 Low Average</td>\n",
       "      <td>770</td>\n",
       "      <td>0.0</td>\n",
       "      <td>1933</td>\n",
       "      <td>0.0</td>\n",
       "    </tr>\n",
       "    <tr>\n",
       "      <th>3</th>\n",
       "      <td>604000.0</td>\n",
       "      <td>4</td>\n",
       "      <td>3.00</td>\n",
       "      <td>1960</td>\n",
       "      <td>5000</td>\n",
       "      <td>1.0</td>\n",
       "      <td>NO</td>\n",
       "      <td>NONE</td>\n",
       "      <td>Very Good</td>\n",
       "      <td>7 Average</td>\n",
       "      <td>1050</td>\n",
       "      <td>910.0</td>\n",
       "      <td>1965</td>\n",
       "      <td>0.0</td>\n",
       "    </tr>\n",
       "    <tr>\n",
       "      <th>4</th>\n",
       "      <td>510000.0</td>\n",
       "      <td>3</td>\n",
       "      <td>2.00</td>\n",
       "      <td>1680</td>\n",
       "      <td>8080</td>\n",
       "      <td>1.0</td>\n",
       "      <td>NO</td>\n",
       "      <td>NONE</td>\n",
       "      <td>Average</td>\n",
       "      <td>8 Good</td>\n",
       "      <td>1680</td>\n",
       "      <td>0.0</td>\n",
       "      <td>1987</td>\n",
       "      <td>0.0</td>\n",
       "    </tr>\n",
       "  </tbody>\n",
       "</table>\n",
       "</div>"
      ],
      "text/plain": [
       "      price  bedrooms  bathrooms  sqft_living  sqft_lot  floors waterfront  \\\n",
       "0  221900.0         3       1.00         1180      5650     1.0         NO   \n",
       "1  538000.0         3       2.25         2570      7242     2.0         NO   \n",
       "2  180000.0         2       1.00          770     10000     1.0         NO   \n",
       "3  604000.0         4       3.00         1960      5000     1.0         NO   \n",
       "4  510000.0         3       2.00         1680      8080     1.0         NO   \n",
       "\n",
       "   view  condition          grade  sqft_above  sqft_basement  yr_built  \\\n",
       "0  NONE    Average      7 Average        1180            0.0      1955   \n",
       "1  NONE    Average      7 Average        2170          400.0      1951   \n",
       "2  NONE    Average  6 Low Average         770            0.0      1933   \n",
       "3  NONE  Very Good      7 Average        1050          910.0      1965   \n",
       "4  NONE    Average         8 Good        1680            0.0      1987   \n",
       "\n",
       "   yr_renovated  \n",
       "0           0.0  \n",
       "1        1991.0  \n",
       "2           0.0  \n",
       "3           0.0  \n",
       "4           0.0  "
      ]
     },
     "execution_count": 38,
     "metadata": {},
     "output_type": "execute_result"
    }
   ],
   "source": [
    "new_data.head()"
   ]
  },
  {
   "cell_type": "code",
   "execution_count": 39,
   "metadata": {},
   "outputs": [],
   "source": [
    "# Relacing the viewing elements with numbers allocated to them\n",
    "new_data[\"view\"].replace(\"FAIR\", 1, inplace = True)\n",
    "new_data[\"view\"].replace(\"AVERAGE\", 2, inplace = True)\n",
    "new_data[\"view\"].replace(\"GOOD\", 3, inplace = True)\n",
    "new_data[\"view\"].replace(\"EXCELLENT\", 4, inplace = True)\n",
    "new_data[\"view\"].replace(\"NONE\", 0, inplace = True)"
   ]
  },
  {
   "cell_type": "code",
   "execution_count": 40,
   "metadata": {},
   "outputs": [
    {
     "data": {
      "text/plain": [
       "0    0\n",
       "1    0\n",
       "Name: view, dtype: int64"
      ]
     },
     "execution_count": 40,
     "metadata": {},
     "output_type": "execute_result"
    }
   ],
   "source": [
    "new_data[\"view\"].head(2) # Checking to confirm that our code above worked correctly."
   ]
  },
  {
   "cell_type": "markdown",
   "metadata": {},
   "source": [
    "#### Condition"
   ]
  },
  {
   "cell_type": "code",
   "execution_count": 41,
   "metadata": {},
   "outputs": [
    {
     "name": "stdout",
     "output_type": "stream",
     "text": [
      "          price  bedrooms  bathrooms  sqft_living  sqft_lot  floors  \\\n",
      "0      221900.0         3       1.00         1180      5650     1.0   \n",
      "1      538000.0         3       2.25         2570      7242     2.0   \n",
      "2      180000.0         2       1.00          770     10000     1.0   \n",
      "3      604000.0         4       3.00         1960      5000     1.0   \n",
      "4      510000.0         3       2.00         1680      8080     1.0   \n",
      "...         ...       ...        ...          ...       ...     ...   \n",
      "21592  360000.0         3       2.50         1530      1131     3.0   \n",
      "21593  400000.0         4       2.50         2310      5813     2.0   \n",
      "21594  402101.0         2       0.75         1020      1350     2.0   \n",
      "21595  400000.0         3       2.50         1600      2388     2.0   \n",
      "21596  325000.0         2       0.75         1020      1076     2.0   \n",
      "\n",
      "      waterfront  view  condition          grade  sqft_above  sqft_basement  \\\n",
      "0             NO     0          0      7 Average        1180            0.0   \n",
      "1             NO     0          0      7 Average        2170          400.0   \n",
      "2             NO     0          0  6 Low Average         770            0.0   \n",
      "3             NO     0          1      7 Average        1050          910.0   \n",
      "4             NO     0          0         8 Good        1680            0.0   \n",
      "...          ...   ...        ...            ...         ...            ...   \n",
      "21592         NO     0          0         8 Good        1530            0.0   \n",
      "21593         NO     0          0         8 Good        2310            0.0   \n",
      "21594         NO     0          0      7 Average        1020            0.0   \n",
      "21595         NO     0          0         8 Good        1600            0.0   \n",
      "21596         NO     0          0      7 Average        1020            0.0   \n",
      "\n",
      "       yr_built  yr_renovated  \n",
      "0          1955           0.0  \n",
      "1          1951        1991.0  \n",
      "2          1933           0.0  \n",
      "3          1965           0.0  \n",
      "4          1987           0.0  \n",
      "...         ...           ...  \n",
      "21592      2009           0.0  \n",
      "21593      2014           0.0  \n",
      "21594      2009           0.0  \n",
      "21595      2004           0.0  \n",
      "21596      2008           0.0  \n",
      "\n",
      "[21589 rows x 14 columns]\n"
     ]
    }
   ],
   "source": [
    "# Define a mapping dictionary to encode the values\n",
    "condition_mapping = {'Average': 0, 'Very Good': 1, 'Good': 2, 'Poor': 3, 'Fair': 4}\n",
    "\n",
    "# Use the map() function to apply the mapping to the column\n",
    "new_data['condition'] = new_data['condition'].map(condition_mapping)\n",
    "\n",
    "# Display the DataFrame with the encoded values\n",
    "print(new_data)"
   ]
  },
  {
   "cell_type": "markdown",
   "metadata": {},
   "source": [
    "#### Waterfront"
   ]
  },
  {
   "cell_type": "code",
   "execution_count": 42,
   "metadata": {},
   "outputs": [
    {
     "name": "stdout",
     "output_type": "stream",
     "text": [
      "          price  bedrooms  bathrooms  sqft_living  sqft_lot  floors  \\\n",
      "0      221900.0         3       1.00         1180      5650     1.0   \n",
      "1      538000.0         3       2.25         2570      7242     2.0   \n",
      "2      180000.0         2       1.00          770     10000     1.0   \n",
      "3      604000.0         4       3.00         1960      5000     1.0   \n",
      "4      510000.0         3       2.00         1680      8080     1.0   \n",
      "...         ...       ...        ...          ...       ...     ...   \n",
      "21592  360000.0         3       2.50         1530      1131     3.0   \n",
      "21593  400000.0         4       2.50         2310      5813     2.0   \n",
      "21594  402101.0         2       0.75         1020      1350     2.0   \n",
      "21595  400000.0         3       2.50         1600      2388     2.0   \n",
      "21596  325000.0         2       0.75         1020      1076     2.0   \n",
      "\n",
      "       waterfront  view  condition          grade  sqft_above  sqft_basement  \\\n",
      "0               0     0          0      7 Average        1180            0.0   \n",
      "1               0     0          0      7 Average        2170          400.0   \n",
      "2               0     0          0  6 Low Average         770            0.0   \n",
      "3               0     0          1      7 Average        1050          910.0   \n",
      "4               0     0          0         8 Good        1680            0.0   \n",
      "...           ...   ...        ...            ...         ...            ...   \n",
      "21592           0     0          0         8 Good        1530            0.0   \n",
      "21593           0     0          0         8 Good        2310            0.0   \n",
      "21594           0     0          0      7 Average        1020            0.0   \n",
      "21595           0     0          0         8 Good        1600            0.0   \n",
      "21596           0     0          0      7 Average        1020            0.0   \n",
      "\n",
      "       yr_built  yr_renovated  \n",
      "0          1955           0.0  \n",
      "1          1951        1991.0  \n",
      "2          1933           0.0  \n",
      "3          1965           0.0  \n",
      "4          1987           0.0  \n",
      "...         ...           ...  \n",
      "21592      2009           0.0  \n",
      "21593      2014           0.0  \n",
      "21594      2009           0.0  \n",
      "21595      2004           0.0  \n",
      "21596      2008           0.0  \n",
      "\n",
      "[21589 rows x 14 columns]\n"
     ]
    }
   ],
   "source": [
    "# Create a mapping dictionary\n",
    "waterfront_mapping = {'YES': 1, 'NO': 0}\n",
    "\n",
    "# Use the map() function to apply the mapping\n",
    "new_data['waterfront'] = new_data['waterfront'].map(waterfront_mapping)\n",
    "\n",
    "# Display the DataFrame with the encoded values\n",
    "print(new_data)"
   ]
  },
  {
   "cell_type": "markdown",
   "metadata": {},
   "source": [
    "#### Grade"
   ]
  },
  {
   "cell_type": "code",
   "execution_count": 43,
   "metadata": {},
   "outputs": [
    {
     "name": "stdout",
     "output_type": "stream",
     "text": [
      "          price  bedrooms  bathrooms  sqft_living  sqft_lot  floors  \\\n",
      "0      221900.0         3       1.00         1180      5650     1.0   \n",
      "1      538000.0         3       2.25         2570      7242     2.0   \n",
      "2      180000.0         2       1.00          770     10000     1.0   \n",
      "3      604000.0         4       3.00         1960      5000     1.0   \n",
      "4      510000.0         3       2.00         1680      8080     1.0   \n",
      "...         ...       ...        ...          ...       ...     ...   \n",
      "21592  360000.0         3       2.50         1530      1131     3.0   \n",
      "21593  400000.0         4       2.50         2310      5813     2.0   \n",
      "21594  402101.0         2       0.75         1020      1350     2.0   \n",
      "21595  400000.0         3       2.50         1600      2388     2.0   \n",
      "21596  325000.0         2       0.75         1020      1076     2.0   \n",
      "\n",
      "       waterfront  view  condition  grade  sqft_above  sqft_basement  \\\n",
      "0               0     0          0      7        1180            0.0   \n",
      "1               0     0          0      7        2170          400.0   \n",
      "2               0     0          0      6         770            0.0   \n",
      "3               0     0          1      7        1050          910.0   \n",
      "4               0     0          0      8        1680            0.0   \n",
      "...           ...   ...        ...    ...         ...            ...   \n",
      "21592           0     0          0      8        1530            0.0   \n",
      "21593           0     0          0      8        2310            0.0   \n",
      "21594           0     0          0      7        1020            0.0   \n",
      "21595           0     0          0      8        1600            0.0   \n",
      "21596           0     0          0      7        1020            0.0   \n",
      "\n",
      "       yr_built  yr_renovated  \n",
      "0          1955           0.0  \n",
      "1          1951        1991.0  \n",
      "2          1933           0.0  \n",
      "3          1965           0.0  \n",
      "4          1987           0.0  \n",
      "...         ...           ...  \n",
      "21592      2009           0.0  \n",
      "21593      2014           0.0  \n",
      "21594      2009           0.0  \n",
      "21595      2004           0.0  \n",
      "21596      2008           0.0  \n",
      "\n",
      "[21589 rows x 14 columns]\n"
     ]
    }
   ],
   "source": [
    "# Define a mapping dictionary to extract numerical values\n",
    "grade_mapping = {\n",
    "    '10 Very Good': 10,\n",
    "    '11 Excellent': 11,\n",
    "    '12 Luxury': 12,\n",
    "    '13 Mansion': 13,\n",
    "    '3 Poor': 3,\n",
    "    '4 Low': 4,\n",
    "    '5 Fair': 5,\n",
    "    '6 Low Average': 6,\n",
    "    '7 Average': 7,\n",
    "    '8 Good': 8,\n",
    "    '9 Better': 9\n",
    "}\n",
    "\n",
    "# Use the map() function to extract numerical values and create a new column\n",
    "new_data['grade'] = new_data['grade'].map(grade_mapping)\n",
    "\n",
    "# Display the DataFrame with the extracted numerical values\n",
    "print(new_data)"
   ]
  },
  {
   "cell_type": "markdown",
   "metadata": {},
   "source": [
    "## Modelling\n",
    "\n",
    "### Correlation of other features/variables with House Price"
   ]
  },
  {
   "cell_type": "code",
   "execution_count": 44,
   "metadata": {},
   "outputs": [
    {
     "data": {
      "text/plain": [
       "price            1.000000\n",
       "bedrooms         0.316007\n",
       "bathrooms        0.525936\n",
       "sqft_living      0.701940\n",
       "sqft_lot         0.089868\n",
       "floors           0.256952\n",
       "waterfront       0.264310\n",
       "view             0.393616\n",
       "condition        0.034507\n",
       "grade            0.668078\n",
       "sqft_above       0.605397\n",
       "sqft_basement    0.321125\n",
       "yr_built         0.054018\n",
       "yr_renovated     0.117921\n",
       "Name: price, dtype: float64"
      ]
     },
     "execution_count": 44,
     "metadata": {},
     "output_type": "execute_result"
    }
   ],
   "source": [
    "# Calculate the correlation matrix\n",
    "correlation_matrix = abs(new_data.corr())\n",
    "\n",
    "# Get the correlation of 'price' with all other columns\n",
    "price_correlations = correlation_matrix['price']\n",
    "price_correlations"
   ]
  },
  {
   "cell_type": "markdown",
   "metadata": {},
   "source": [
    "### What is the most correlated column feature with price?\n",
    "Let's get the most correlated column feature name with its correlation coefficient"
   ]
  },
  {
   "cell_type": "code",
   "execution_count": 45,
   "metadata": {},
   "outputs": [
    {
     "name": "stdout",
     "output_type": "stream",
     "text": [
      "The most correlated column with 'price' is 'sqft_living' with a correlation coefficient of 0.70\n"
     ]
    }
   ],
   "source": [
    "# Find the most correlated column (excluding 'price' itself)\n",
    "most_correlated_column = price_correlations.drop('price').idxmax()\n",
    "\n",
    "# Get the correlation coefficient for the most correlated column\n",
    "max_correlation_coefficient = price_correlations[most_correlated_column]\n",
    "\n",
    "print(f\"The most correlated column with 'price' is '{most_correlated_column}' with a correlation coefficient of {max_correlation_coefficient:.2f}\")"
   ]
  },
  {
   "cell_type": "markdown",
   "metadata": {},
   "source": [
    "### What is the most correlated feature with other features excluding price?"
   ]
  },
  {
   "cell_type": "code",
   "execution_count": 46,
   "metadata": {},
   "outputs": [
    {
     "data": {
      "image/png": "[encoded data removed]",
      "text/plain": [
       "<Figure size 720x576 with 2 Axes>"
      ]
     },
     "metadata": {
      "needs_background": "light"
     },
     "output_type": "display_data"
    }
   ],
   "source": [
    "# Calculate the correlation matrix\n",
    "correlation_matrix = abs(new_data.corr())\n",
    "\n",
    "# Create a heatmap to visualize the correlation matrix\n",
    "plt.figure(figsize=(10, 8))\n",
    "sns.heatmap(correlation_matrix, annot=True, cmap='coolwarm', fmt=\".2f\", linewidths=0.5)\n",
    "plt.title('Correlation Matrix Heatmap')\n",
    "plt.show()"
   ]
  },
  {
   "cell_type": "markdown",
   "metadata": {},
   "source": [
    "We now check if there are any variables with a correlation of more than 0.75"
   ]
  },
  {
   "cell_type": "code",
   "execution_count": 47,
   "metadata": {},
   "outputs": [
    {
     "data": {
      "text/html": [
       "<div>\n",
       "<style scoped>\n",
       "    .dataframe tbody tr th:only-of-type {\n",
       "        vertical-align: middle;\n",
       "    }\n",
       "\n",
       "    .dataframe tbody tr th {\n",
       "        vertical-align: top;\n",
       "    }\n",
       "\n",
       "    .dataframe thead th {\n",
       "        text-align: right;\n",
       "    }\n",
       "</style>\n",
       "<table border=\"1\" class=\"dataframe\">\n",
       "  <thead>\n",
       "    <tr style=\"text-align: right;\">\n",
       "      <th></th>\n",
       "      <th>price</th>\n",
       "      <th>bedrooms</th>\n",
       "      <th>bathrooms</th>\n",
       "      <th>sqft_living</th>\n",
       "      <th>sqft_lot</th>\n",
       "      <th>floors</th>\n",
       "      <th>waterfront</th>\n",
       "      <th>view</th>\n",
       "      <th>condition</th>\n",
       "      <th>grade</th>\n",
       "      <th>sqft_above</th>\n",
       "      <th>sqft_basement</th>\n",
       "      <th>yr_built</th>\n",
       "      <th>yr_renovated</th>\n",
       "    </tr>\n",
       "  </thead>\n",
       "  <tbody>\n",
       "    <tr>\n",
       "      <th>price</th>\n",
       "      <td>True</td>\n",
       "      <td>False</td>\n",
       "      <td>False</td>\n",
       "      <td>False</td>\n",
       "      <td>False</td>\n",
       "      <td>False</td>\n",
       "      <td>False</td>\n",
       "      <td>False</td>\n",
       "      <td>False</td>\n",
       "      <td>False</td>\n",
       "      <td>False</td>\n",
       "      <td>False</td>\n",
       "      <td>False</td>\n",
       "      <td>False</td>\n",
       "    </tr>\n",
       "    <tr>\n",
       "      <th>bedrooms</th>\n",
       "      <td>False</td>\n",
       "      <td>True</td>\n",
       "      <td>False</td>\n",
       "      <td>False</td>\n",
       "      <td>False</td>\n",
       "      <td>False</td>\n",
       "      <td>False</td>\n",
       "      <td>False</td>\n",
       "      <td>False</td>\n",
       "      <td>False</td>\n",
       "      <td>False</td>\n",
       "      <td>False</td>\n",
       "      <td>False</td>\n",
       "      <td>False</td>\n",
       "    </tr>\n",
       "    <tr>\n",
       "      <th>bathrooms</th>\n",
       "      <td>False</td>\n",
       "      <td>False</td>\n",
       "      <td>True</td>\n",
       "      <td>True</td>\n",
       "      <td>False</td>\n",
       "      <td>False</td>\n",
       "      <td>False</td>\n",
       "      <td>False</td>\n",
       "      <td>False</td>\n",
       "      <td>False</td>\n",
       "      <td>False</td>\n",
       "      <td>False</td>\n",
       "      <td>False</td>\n",
       "      <td>False</td>\n",
       "    </tr>\n",
       "    <tr>\n",
       "      <th>sqft_living</th>\n",
       "      <td>False</td>\n",
       "      <td>False</td>\n",
       "      <td>True</td>\n",
       "      <td>True</td>\n",
       "      <td>False</td>\n",
       "      <td>False</td>\n",
       "      <td>False</td>\n",
       "      <td>False</td>\n",
       "      <td>False</td>\n",
       "      <td>True</td>\n",
       "      <td>True</td>\n",
       "      <td>False</td>\n",
       "      <td>False</td>\n",
       "      <td>False</td>\n",
       "    </tr>\n",
       "    <tr>\n",
       "      <th>sqft_lot</th>\n",
       "      <td>False</td>\n",
       "      <td>False</td>\n",
       "      <td>False</td>\n",
       "      <td>False</td>\n",
       "      <td>True</td>\n",
       "      <td>False</td>\n",
       "      <td>False</td>\n",
       "      <td>False</td>\n",
       "      <td>False</td>\n",
       "      <td>False</td>\n",
       "      <td>False</td>\n",
       "      <td>False</td>\n",
       "      <td>False</td>\n",
       "      <td>False</td>\n",
       "    </tr>\n",
       "    <tr>\n",
       "      <th>floors</th>\n",
       "      <td>False</td>\n",
       "      <td>False</td>\n",
       "      <td>False</td>\n",
       "      <td>False</td>\n",
       "      <td>False</td>\n",
       "      <td>True</td>\n",
       "      <td>False</td>\n",
       "      <td>False</td>\n",
       "      <td>False</td>\n",
       "      <td>False</td>\n",
       "      <td>False</td>\n",
       "      <td>False</td>\n",
       "      <td>False</td>\n",
       "      <td>False</td>\n",
       "    </tr>\n",
       "    <tr>\n",
       "      <th>waterfront</th>\n",
       "      <td>False</td>\n",
       "      <td>False</td>\n",
       "      <td>False</td>\n",
       "      <td>False</td>\n",
       "      <td>False</td>\n",
       "      <td>False</td>\n",
       "      <td>True</td>\n",
       "      <td>False</td>\n",
       "      <td>False</td>\n",
       "      <td>False</td>\n",
       "      <td>False</td>\n",
       "      <td>False</td>\n",
       "      <td>False</td>\n",
       "      <td>False</td>\n",
       "    </tr>\n",
       "    <tr>\n",
       "      <th>view</th>\n",
       "      <td>False</td>\n",
       "      <td>False</td>\n",
       "      <td>False</td>\n",
       "      <td>False</td>\n",
       "      <td>False</td>\n",
       "      <td>False</td>\n",
       "      <td>False</td>\n",
       "      <td>True</td>\n",
       "      <td>False</td>\n",
       "      <td>False</td>\n",
       "      <td>False</td>\n",
       "      <td>False</td>\n",
       "      <td>False</td>\n",
       "      <td>False</td>\n",
       "    </tr>\n",
       "    <tr>\n",
       "      <th>condition</th>\n",
       "      <td>False</td>\n",
       "      <td>False</td>\n",
       "      <td>False</td>\n",
       "      <td>False</td>\n",
       "      <td>False</td>\n",
       "      <td>False</td>\n",
       "      <td>False</td>\n",
       "      <td>False</td>\n",
       "      <td>True</td>\n",
       "      <td>False</td>\n",
       "      <td>False</td>\n",
       "      <td>False</td>\n",
       "      <td>False</td>\n",
       "      <td>False</td>\n",
       "    </tr>\n",
       "    <tr>\n",
       "      <th>grade</th>\n",
       "      <td>False</td>\n",
       "      <td>False</td>\n",
       "      <td>False</td>\n",
       "      <td>True</td>\n",
       "      <td>False</td>\n",
       "      <td>False</td>\n",
       "      <td>False</td>\n",
       "      <td>False</td>\n",
       "      <td>False</td>\n",
       "      <td>True</td>\n",
       "      <td>True</td>\n",
       "      <td>False</td>\n",
       "      <td>False</td>\n",
       "      <td>False</td>\n",
       "    </tr>\n",
       "    <tr>\n",
       "      <th>sqft_above</th>\n",
       "      <td>False</td>\n",
       "      <td>False</td>\n",
       "      <td>False</td>\n",
       "      <td>True</td>\n",
       "      <td>False</td>\n",
       "      <td>False</td>\n",
       "      <td>False</td>\n",
       "      <td>False</td>\n",
       "      <td>False</td>\n",
       "      <td>True</td>\n",
       "      <td>True</td>\n",
       "      <td>False</td>\n",
       "      <td>False</td>\n",
       "      <td>False</td>\n",
       "    </tr>\n",
       "    <tr>\n",
       "      <th>sqft_basement</th>\n",
       "      <td>False</td>\n",
       "      <td>False</td>\n",
       "      <td>False</td>\n",
       "      <td>False</td>\n",
       "      <td>False</td>\n",
       "      <td>False</td>\n",
       "      <td>False</td>\n",
       "      <td>False</td>\n",
       "      <td>False</td>\n",
       "      <td>False</td>\n",
       "      <td>False</td>\n",
       "      <td>True</td>\n",
       "      <td>False</td>\n",
       "      <td>False</td>\n",
       "    </tr>\n",
       "    <tr>\n",
       "      <th>yr_built</th>\n",
       "      <td>False</td>\n",
       "      <td>False</td>\n",
       "      <td>False</td>\n",
       "      <td>False</td>\n",
       "      <td>False</td>\n",
       "      <td>False</td>\n",
       "      <td>False</td>\n",
       "      <td>False</td>\n",
       "      <td>False</td>\n",
       "      <td>False</td>\n",
       "      <td>False</td>\n",
       "      <td>False</td>\n",
       "      <td>True</td>\n",
       "      <td>False</td>\n",
       "    </tr>\n",
       "    <tr>\n",
       "      <th>yr_renovated</th>\n",
       "      <td>False</td>\n",
       "      <td>False</td>\n",
       "      <td>False</td>\n",
       "      <td>False</td>\n",
       "      <td>False</td>\n",
       "      <td>False</td>\n",
       "      <td>False</td>\n",
       "      <td>False</td>\n",
       "      <td>False</td>\n",
       "      <td>False</td>\n",
       "      <td>False</td>\n",
       "      <td>False</td>\n",
       "      <td>False</td>\n",
       "      <td>True</td>\n",
       "    </tr>\n",
       "  </tbody>\n",
       "</table>\n",
       "</div>"
      ],
      "text/plain": [
       "               price  bedrooms  bathrooms  sqft_living  sqft_lot  floors  \\\n",
       "price           True     False      False        False     False   False   \n",
       "bedrooms       False      True      False        False     False   False   \n",
       "bathrooms      False     False       True         True     False   False   \n",
       "sqft_living    False     False       True         True     False   False   \n",
       "sqft_lot       False     False      False        False      True   False   \n",
       "floors         False     False      False        False     False    True   \n",
       "waterfront     False     False      False        False     False   False   \n",
       "view           False     False      False        False     False   False   \n",
       "condition      False     False      False        False     False   False   \n",
       "grade          False     False      False         True     False   False   \n",
       "sqft_above     False     False      False         True     False   False   \n",
       "sqft_basement  False     False      False        False     False   False   \n",
       "yr_built       False     False      False        False     False   False   \n",
       "yr_renovated   False     False      False        False     False   False   \n",
       "\n",
       "               waterfront   view  condition  grade  sqft_above  sqft_basement  \\\n",
       "price               False  False      False  False       False          False   \n",
       "bedrooms            False  False      False  False       False          False   \n",
       "bathrooms           False  False      False  False       False          False   \n",
       "sqft_living         False  False      False   True        True          False   \n",
       "sqft_lot            False  False      False  False       False          False   \n",
       "floors              False  False      False  False       False          False   \n",
       "waterfront           True  False      False  False       False          False   \n",
       "view                False   True      False  False       False          False   \n",
       "condition           False  False       True  False       False          False   \n",
       "grade               False  False      False   True        True          False   \n",
       "sqft_above          False  False      False   True        True          False   \n",
       "sqft_basement       False  False      False  False       False           True   \n",
       "yr_built            False  False      False  False       False          False   \n",
       "yr_renovated        False  False      False  False       False          False   \n",
       "\n",
       "               yr_built  yr_renovated  \n",
       "price             False         False  \n",
       "bedrooms          False         False  \n",
       "bathrooms         False         False  \n",
       "sqft_living       False         False  \n",
       "sqft_lot          False         False  \n",
       "floors            False         False  \n",
       "waterfront        False         False  \n",
       "view              False         False  \n",
       "condition         False         False  \n",
       "grade             False         False  \n",
       "sqft_above        False         False  \n",
       "sqft_basement     False         False  \n",
       "yr_built           True         False  \n",
       "yr_renovated      False          True  "
      ]
     },
     "execution_count": 47,
     "metadata": {},
     "output_type": "execute_result"
    }
   ],
   "source": [
    "abs(correlation_matrix)>0.75"
   ]
  },
  {
   "cell_type": "markdown",
   "metadata": {},
   "source": [
    "The most collerated feature with other features excluding price is 'sqft_living'.\n",
    "Since 'sqft_living' has two most auto-correlation with other features after price, we will drop it to avoid multicollinearity issues when modelling"
   ]
  },
  {
   "cell_type": "code",
   "execution_count": 48,
   "metadata": {},
   "outputs": [],
   "source": [
    "# Drop \"sqft_living\" feature\n",
    "new_data = new_data.drop(columns=[\"sqft_living\"])"
   ]
  },
  {
   "cell_type": "code",
   "execution_count": 49,
   "metadata": {},
   "outputs": [
    {
     "data": {
      "text/html": [
       "<div>\n",
       "<style scoped>\n",
       "    .dataframe tbody tr th:only-of-type {\n",
       "        vertical-align: middle;\n",
       "    }\n",
       "\n",
       "    .dataframe tbody tr th {\n",
       "        vertical-align: top;\n",
       "    }\n",
       "\n",
       "    .dataframe thead th {\n",
       "        text-align: right;\n",
       "    }\n",
       "</style>\n",
       "<table border=\"1\" class=\"dataframe\">\n",
       "  <thead>\n",
       "    <tr style=\"text-align: right;\">\n",
       "      <th></th>\n",
       "      <th>price</th>\n",
       "      <th>bedrooms</th>\n",
       "      <th>bathrooms</th>\n",
       "      <th>sqft_lot</th>\n",
       "      <th>floors</th>\n",
       "      <th>waterfront</th>\n",
       "      <th>view</th>\n",
       "      <th>condition</th>\n",
       "      <th>grade</th>\n",
       "      <th>sqft_above</th>\n",
       "      <th>sqft_basement</th>\n",
       "      <th>yr_built</th>\n",
       "      <th>yr_renovated</th>\n",
       "    </tr>\n",
       "  </thead>\n",
       "  <tbody>\n",
       "    <tr>\n",
       "      <th>0</th>\n",
       "      <td>221900.0</td>\n",
       "      <td>3</td>\n",
       "      <td>1.00</td>\n",
       "      <td>5650</td>\n",
       "      <td>1.0</td>\n",
       "      <td>0</td>\n",
       "      <td>0</td>\n",
       "      <td>0</td>\n",
       "      <td>7</td>\n",
       "      <td>1180</td>\n",
       "      <td>0.0</td>\n",
       "      <td>1955</td>\n",
       "      <td>0.0</td>\n",
       "    </tr>\n",
       "    <tr>\n",
       "      <th>1</th>\n",
       "      <td>538000.0</td>\n",
       "      <td>3</td>\n",
       "      <td>2.25</td>\n",
       "      <td>7242</td>\n",
       "      <td>2.0</td>\n",
       "      <td>0</td>\n",
       "      <td>0</td>\n",
       "      <td>0</td>\n",
       "      <td>7</td>\n",
       "      <td>2170</td>\n",
       "      <td>400.0</td>\n",
       "      <td>1951</td>\n",
       "      <td>1991.0</td>\n",
       "    </tr>\n",
       "    <tr>\n",
       "      <th>2</th>\n",
       "      <td>180000.0</td>\n",
       "      <td>2</td>\n",
       "      <td>1.00</td>\n",
       "      <td>10000</td>\n",
       "      <td>1.0</td>\n",
       "      <td>0</td>\n",
       "      <td>0</td>\n",
       "      <td>0</td>\n",
       "      <td>6</td>\n",
       "      <td>770</td>\n",
       "      <td>0.0</td>\n",
       "      <td>1933</td>\n",
       "      <td>0.0</td>\n",
       "    </tr>\n",
       "  </tbody>\n",
       "</table>\n",
       "</div>"
      ],
      "text/plain": [
       "      price  bedrooms  bathrooms  sqft_lot  floors  waterfront  view  \\\n",
       "0  221900.0         3       1.00      5650     1.0           0     0   \n",
       "1  538000.0         3       2.25      7242     2.0           0     0   \n",
       "2  180000.0         2       1.00     10000     1.0           0     0   \n",
       "\n",
       "   condition  grade  sqft_above  sqft_basement  yr_built  yr_renovated  \n",
       "0          0      7        1180            0.0      1955           0.0  \n",
       "1          0      7        2170          400.0      1951        1991.0  \n",
       "2          0      6         770            0.0      1933           0.0  "
      ]
     },
     "execution_count": 49,
     "metadata": {},
     "output_type": "execute_result"
    }
   ],
   "source": [
    "new_data.head(3) # Rechecking to ensure the \"sqft_living\" has been dropped."
   ]
  },
  {
   "cell_type": "code",
   "execution_count": 50,
   "metadata": {},
   "outputs": [
    {
     "data": {
      "text/plain": [
       "price            1.000000\n",
       "bedrooms         0.316007\n",
       "bathrooms        0.525936\n",
       "sqft_lot         0.089868\n",
       "floors           0.256952\n",
       "waterfront       0.264310\n",
       "view             0.393616\n",
       "condition        0.034507\n",
       "grade            0.668078\n",
       "sqft_above       0.605397\n",
       "sqft_basement    0.321125\n",
       "yr_built         0.054018\n",
       "yr_renovated     0.117921\n",
       "Name: price, dtype: float64"
      ]
     },
     "execution_count": 50,
     "metadata": {},
     "output_type": "execute_result"
    }
   ],
   "source": [
    "# Checking again to get the most correlated feature with price\n",
    "# Calculate the correlation matrix\n",
    "correlation_matrix = abs(new_data.corr())\n",
    "\n",
    "# Get the correlation of 'price' with all other columns\n",
    "price_correlations = correlation_matrix['price']\n",
    "price_correlations"
   ]
  },
  {
   "cell_type": "markdown",
   "metadata": {},
   "source": [
    "## 1. Base Model"
   ]
  },
  {
   "cell_type": "markdown",
   "metadata": {},
   "source": [
    "## 1. Baseline Model\n",
    "We have found our most correlated column with price is 'grade'. Let's now build our Baseline model with this column.\n",
    "Our baseline model is a simple linear regression that take the equation:\n",
    "\n",
    "Y= aX+b\n",
    "\n",
    "#### In this equation:\n",
    "Y is the dependent variable ('price').\n",
    "\n",
    "X is the independent variable ('grade').\n",
    "\n",
    "a is the slope of the regression line, representing the change in Y for a one-unit change in X. It is also known as the   regression coefficient or the coefficient of the independent variable.\n",
    "\n",
    "b is the y-intercept, representing the value of Y when X is zero."
   ]
  },
  {
   "cell_type": "markdown",
   "metadata": {},
   "source": [
    "#### Setting up variable, fitting linear regression model and viewing the model results"
   ]
  },
  {
   "cell_type": "code",
   "execution_count": 51,
   "metadata": {},
   "outputs": [
    {
     "name": "stdout",
     "output_type": "stream",
     "text": [
      "                            OLS Regression Results                            \n",
      "==============================================================================\n",
      "Dep. Variable:                  price   R-squared:                       0.446\n",
      "Model:                            OLS   Adj. R-squared:                  0.446\n",
      "Method:                 Least Squares   F-statistic:                 1.740e+04\n",
      "Date:                Sat, 09 Sep 2023   Prob (F-statistic):               0.00\n",
      "Time:                        17:16:44   Log-Likelihood:            -3.0090e+05\n",
      "No. Observations:               21589   AIC:                         6.018e+05\n",
      "Df Residuals:                   21587   BIC:                         6.018e+05\n",
      "Df Model:                           1                                         \n",
      "Covariance Type:            nonrobust                                         \n",
      "==============================================================================\n",
      "                 coef    std err          t      P>|t|      [0.025      0.975]\n",
      "------------------------------------------------------------------------------\n",
      "const      -1.062e+06   1.23e+04    -86.419      0.000   -1.09e+06   -1.04e+06\n",
      "grade       2.092e+05   1586.012    131.916      0.000    2.06e+05    2.12e+05\n",
      "==============================================================================\n",
      "Omnibus:                    19872.369   Durbin-Watson:                   1.969\n",
      "Prob(Omnibus):                  0.000   Jarque-Bera (JB):          2042951.569\n",
      "Skew:                           4.081   Prob(JB):                         0.00\n",
      "Kurtosis:                      49.952   Cond. No.                         52.0\n",
      "==============================================================================\n",
      "\n",
      "Notes:\n",
      "[1] Standard Errors assume that the covariance matrix of the errors is correctly specified.\n"
     ]
    }
   ],
   "source": [
    "#Declaring Variables\n",
    "y = new_data['price']\n",
    "X_baseline = new_data['grade']\n",
    "\n",
    "#Fitting model\n",
    "baseline_model = sm.OLS(y, sm.add_constant(X_baseline))\n",
    "baseline_results = baseline_model.fit()\n",
    "\n",
    "#Printing Results\n",
    "print(baseline_results.summary())"
   ]
  },
  {
   "cell_type": "markdown",
   "metadata": {},
   "source": [
    "#### Summary findings and interpretation\n",
    "The linear regression model fitted above uses the 'grade' as the independent variable to predict the 'price' of houses. The R-squared value of 0.446 indicates that approximately 44.6% of the variance in house prices can be explained by the 'grade.' The coefficient for 'grade' is 209,200, suggesting that, on average, a one-unit increase in the 'grade' results in an increase of $209,200 in the house price. The constant term of -1,062,000 represents the estimated price when 'grade' is zero. The p-values are close to zero, indicating that the 'grade' is statistically significant in predicting house prices. The model fits the data well, although there might be some multicollinearity concerns, given the high coefficient value for 'grade.'"
   ]
  },
  {
   "cell_type": "markdown",
   "metadata": {},
   "source": [
    "#### Residuals of the Baseline Model"
   ]
  },
  {
   "cell_type": "code",
   "execution_count": 52,
   "metadata": {},
   "outputs": [
    {
     "name": "stdout",
     "output_type": "stream",
     "text": [
      "0   -180824.561898\n",
      "1    135275.438102\n",
      "2    -13504.562520\n",
      "3    201275.438102\n",
      "4   -101944.561277\n",
      "dtype: float64\n"
     ]
    }
   ],
   "source": [
    "# Calculate predicted values using the baseline model\n",
    "predicted_values = baseline_results.predict(sm.add_constant(X_baseline))\n",
    "\n",
    "# Calculate residuals (observed - predicted)\n",
    "residuals = y - predicted_values\n",
    "\n",
    "# Print the first few residuals\n",
    "print(residuals.head())"
   ]
  },
  {
   "cell_type": "markdown",
   "metadata": {},
   "source": [
    "Negative residuals indicate that the model underestimated the prices, while positive residuals indicate overestimation. The values in the displayed residuals are the specific differences for the first few data points in the dataset."
   ]
  },
  {
   "cell_type": "markdown",
   "metadata": {},
   "source": [
    "#### Visual representation of the Baseline Model residual"
   ]
  },
  {
   "cell_type": "code",
   "execution_count": 53,
   "metadata": {},
   "outputs": [
    {
     "data": {
      "image/png": "[encoded data removed]",
      "text/plain": [
       "<Figure size 1080x432 with 1 Axes>"
      ]
     },
     "metadata": {
      "needs_background": "light"
     },
     "output_type": "display_data"
    }
   ],
   "source": [
    "#Scatter plot of residuals\n",
    "fig, ax = plt.subplots(figsize=(15,6))\n",
    "ax.scatter(new_data[\"price\"], baseline_results.resid)\n",
    "ax.axhline(y=0, color=\"black\")\n",
    "ax.set_xlabel(\"grade\")\n",
    "ax.set_ylabel(\"residuals\");"
   ]
  },
  {
   "cell_type": "markdown",
   "metadata": {},
   "source": [
    "## 2. Multiple Linear Regression Model\n",
    "\n",
    "The four assumptions kept for multiple Linear Regression Models below include: \n",
    "1. No multicollinearity\n",
    "2. Linear relationship between explanatory and response variables\n",
    "3. Homoscedasticity of error terms\n",
    "4. Normal distribution of model residuals"
   ]
  },
  {
   "cell_type": "markdown",
   "metadata": {},
   "source": [
    "#### a. Using Continuous data and Categorical features to build multiple regression models\n",
    "Looking at the four categorical features above, the condition states and grades of the house are more likely to influence the house prices. Thus, we select these variables for our multiple regression model to check how they influence the house prices when combined with numerical variables."
   ]
  },
  {
   "cell_type": "markdown",
   "metadata": {},
   "source": [
    "#### i. Model Continuous features and grade column\n",
    "We first start to iterate one categorical feature('grade') with continuous variables (\"bedrooms\", \"bathrooms\", \"sqft_lot\", \"sqft_basement\", \"sqft_above\", \"floors\") as below and view the model summary results"
   ]
  },
  {
   "cell_type": "code",
   "execution_count": 54,
   "metadata": {},
   "outputs": [
    {
     "name": "stdout",
     "output_type": "stream",
     "text": [
      "                            OLS Regression Results                            \n",
      "==============================================================================\n",
      "Dep. Variable:                  price   R-squared:                       0.550\n",
      "Model:                            OLS   Adj. R-squared:                  0.550\n",
      "Method:                 Least Squares   F-statistic:                     3774.\n",
      "Date:                Sat, 09 Sep 2023   Prob (F-statistic):               0.00\n",
      "Time:                        17:16:44   Log-Likelihood:            -2.9865e+05\n",
      "No. Observations:               21589   AIC:                         5.973e+05\n",
      "Df Residuals:                   21581   BIC:                         5.974e+05\n",
      "Df Model:                           7                                         \n",
      "Covariance Type:            nonrobust                                         \n",
      "=================================================================================\n",
      "                    coef    std err          t      P>|t|      [0.025      0.975]\n",
      "---------------------------------------------------------------------------------\n",
      "const         -5.179e+05   1.53e+04    -33.759      0.000   -5.48e+05   -4.88e+05\n",
      "grade          1.092e+05   2413.336     45.267      0.000    1.05e+05    1.14e+05\n",
      "bedrooms      -4.483e+04   2387.124    -18.781      0.000   -4.95e+04   -4.02e+04\n",
      "bathrooms     -1.749e+04   3722.631     -4.699      0.000   -2.48e+04   -1.02e+04\n",
      "sqft_lot         -0.2874      0.042     -6.896      0.000      -0.369      -0.206\n",
      "sqft_basement   271.1180      4.969     54.560      0.000     261.378     280.858\n",
      "sqft_above      202.8757      3.963     51.191      0.000     195.108     210.644\n",
      "floors        -1.752e+04   4165.164     -4.206      0.000   -2.57e+04   -9353.558\n",
      "==============================================================================\n",
      "Omnibus:                    16380.143   Durbin-Watson:                   1.982\n",
      "Prob(Omnibus):                  0.000   Jarque-Bera (JB):           896073.142\n",
      "Skew:                           3.153   Prob(JB):                         0.00\n",
      "Kurtosis:                      33.925   Cond. No.                     4.09e+05\n",
      "==============================================================================\n",
      "\n",
      "Notes:\n",
      "[1] Standard Errors assume that the covariance matrix of the errors is correctly specified.\n",
      "[2] The condition number is large, 4.09e+05. This might indicate that there are\n",
      "strong multicollinearity or other numerical problems.\n"
     ]
    }
   ],
   "source": [
    "x_iterated_one = new_data[[\"grade\", \"bedrooms\", \"bathrooms\", \"sqft_lot\", \"sqft_basement\", \"sqft_above\", \n",
    "                           \"floors\"]]\n",
    "iterated_model_one = sm.OLS(y, sm.add_constant(x_iterated_one))\n",
    "iterated_results_one = iterated_model_one.fit()\n",
    "print(iterated_results_one.summary())"
   ]
  },
  {
   "cell_type": "markdown",
   "metadata": {},
   "source": [
    "The multiple linear regression model, incorporating continuous variables (bedrooms, bathrooms, sqft_lot, sqft_basement, sqft_above, floors) and one categorical variable (view), shows an improved performance compared to the baseline model. The R-squared value has increased to 0.545, indicating that about 54.5% of the variance in price is explained by the model. The coefficients and their associated statistics for each predictor variable are provided in the summary output. All continuous variables, except for floors, appear to be statistically significant predictors of price. The view variable also has a significant impact on price. However, the model may suffer from multicollinearity issues due to a large condition number."
   ]
  },
  {
   "cell_type": "markdown",
   "metadata": {},
   "source": [
    "#### ii. Model Continuous features and house condition feature"
   ]
  },
  {
   "cell_type": "code",
   "execution_count": 55,
   "metadata": {},
   "outputs": [
    {
     "name": "stdout",
     "output_type": "stream",
     "text": [
      "                            OLS Regression Results                            \n",
      "==============================================================================\n",
      "Dep. Variable:                  price   R-squared:                       0.511\n",
      "Model:                            OLS   Adj. R-squared:                  0.511\n",
      "Method:                 Least Squares   F-statistic:                     3222.\n",
      "Date:                Sat, 09 Sep 2023   Prob (F-statistic):               0.00\n",
      "Time:                        17:16:44   Log-Likelihood:            -2.9956e+05\n",
      "No. Observations:               21589   AIC:                         5.991e+05\n",
      "Df Residuals:                   21581   BIC:                         5.992e+05\n",
      "Df Model:                           7                                         \n",
      "Covariance Type:            nonrobust                                         \n",
      "=================================================================================\n",
      "                    coef    std err          t      P>|t|      [0.025      0.975]\n",
      "---------------------------------------------------------------------------------\n",
      "const          5.485e+04   8297.474      6.611      0.000    3.86e+04    7.11e+04\n",
      "condition      2.435e+04   1995.402     12.201      0.000    2.04e+04    2.83e+04\n",
      "bedrooms      -6.613e+04   2453.353    -26.953      0.000   -7.09e+04   -6.13e+04\n",
      "bathrooms      1.473e+04   3845.493      3.829      0.000    7188.511    2.23e+04\n",
      "sqft_lot         -0.3731      0.043     -8.586      0.000      -0.458      -0.288\n",
      "sqft_basement   331.4648      4.977     66.606      0.000     321.710     341.219\n",
      "sqft_above      307.0390      3.368     91.162      0.000     300.437     313.641\n",
      "floors         1.567e+04   4373.836      3.583      0.000    7100.405    2.42e+04\n",
      "==============================================================================\n",
      "Omnibus:                    14150.734   Durbin-Watson:                   1.988\n",
      "Prob(Omnibus):                  0.000   Jarque-Bera (JB):           464349.446\n",
      "Skew:                           2.672   Prob(JB):                         0.00\n",
      "Kurtosis:                      25.083   Cond. No.                     2.20e+05\n",
      "==============================================================================\n",
      "\n",
      "Notes:\n",
      "[1] Standard Errors assume that the covariance matrix of the errors is correctly specified.\n",
      "[2] The condition number is large, 2.2e+05. This might indicate that there are\n",
      "strong multicollinearity or other numerical problems.\n"
     ]
    }
   ],
   "source": [
    "x_iterated_two = new_data[[\"condition\", \"bedrooms\", \"bathrooms\", \"sqft_lot\", \"sqft_basement\", \"sqft_above\", \n",
    "                           \"floors\"]]\n",
    "iterated_model_two = sm.OLS(y, sm.add_constant(x_iterated_two))\n",
    "iterated_results_two = iterated_model_two.fit()\n",
    "print(iterated_results_two.summary())"
   ]
  },
  {
   "cell_type": "markdown",
   "metadata": {},
   "source": [
    "This second model, which includes the categorical variable condition along with continuous variables, shows an R-squared of 0.511, indicating 51.1% of price variance explained. All predictors are statistically significant. This model performs similarly to the previous one, suggesting condition may be a valuable predictor alongside the other features. THis model performs better than the baseline model. "
   ]
  },
  {
   "cell_type": "markdown",
   "metadata": {},
   "source": [
    "#### b. Model using only categorical features"
   ]
  },
  {
   "cell_type": "code",
   "execution_count": 56,
   "metadata": {},
   "outputs": [
    {
     "name": "stdout",
     "output_type": "stream",
     "text": [
      "                            OLS Regression Results                            \n",
      "==============================================================================\n",
      "Dep. Variable:                  price   R-squared:                       0.525\n",
      "Model:                            OLS   Adj. R-squared:                  0.525\n",
      "Method:                 Least Squares   F-statistic:                     5966.\n",
      "Date:                Sat, 09 Sep 2023   Prob (F-statistic):               0.00\n",
      "Time:                        17:16:44   Log-Likelihood:            -2.9924e+05\n",
      "No. Observations:               21589   AIC:                         5.985e+05\n",
      "Df Residuals:                   21584   BIC:                         5.985e+05\n",
      "Df Model:                           4                                         \n",
      "Covariance Type:            nonrobust                                         \n",
      "==============================================================================\n",
      "                 coef    std err          t      P>|t|      [0.025      0.975]\n",
      "------------------------------------------------------------------------------\n",
      "const      -1.009e+06   1.22e+04    -82.846      0.000   -1.03e+06   -9.85e+05\n",
      "condition   3.251e+04   1902.310     17.091      0.000    2.88e+04    3.62e+04\n",
      "waterfront  6.375e+05   2.27e+04     28.031      0.000    5.93e+05    6.82e+05\n",
      "grade       1.964e+05   1551.143    126.633      0.000    1.93e+05    1.99e+05\n",
      "view        8.706e+04   2515.012     34.616      0.000    8.21e+04     9.2e+04\n",
      "==============================================================================\n",
      "Omnibus:                    18620.121   Durbin-Watson:                   1.969\n",
      "Prob(Omnibus):                  0.000   Jarque-Bera (JB):          1894963.152\n",
      "Skew:                           3.651   Prob(JB):                         0.00\n",
      "Kurtosis:                      48.313   Cond. No.                         104.\n",
      "==============================================================================\n",
      "\n",
      "Notes:\n",
      "[1] Standard Errors assume that the covariance matrix of the errors is correctly specified.\n"
     ]
    }
   ],
   "source": [
    "x_iterated_three = new_data[[\"condition\",\"waterfront\",\"grade\", \"view\"]]\n",
    "iterated_model_three = sm.OLS(y, sm.add_constant(x_iterated_three))\n",
    "iterated_results_three = iterated_model_three.fit()\n",
    "print(iterated_results_three.summary())"
   ]
  },
  {
   "cell_type": "markdown",
   "metadata": {},
   "source": [
    "The third model, using only categorical features (condition, waterfront, grade, view), has an R-squared of 0.525, explaining 52.5% of price variance. All categorical predictors are statistically significant below the chosen p_value of 0.05. This model simplifies the model significantly and performs competitively, suggesting that categorical features alone can provide valuable predictive power."
   ]
  },
  {
   "cell_type": "markdown",
   "metadata": {},
   "source": [
    "#### c. Model using only continuous variables"
   ]
  },
  {
   "cell_type": "code",
   "execution_count": 57,
   "metadata": {},
   "outputs": [
    {
     "name": "stdout",
     "output_type": "stream",
     "text": [
      "                            OLS Regression Results                            \n",
      "==============================================================================\n",
      "Dep. Variable:                  price   R-squared:                       0.584\n",
      "Model:                            OLS   Adj. R-squared:                  0.584\n",
      "Method:                 Least Squares   F-statistic:                     3370.\n",
      "Date:                Sat, 09 Sep 2023   Prob (F-statistic):               0.00\n",
      "Time:                        17:16:44   Log-Likelihood:            -2.9781e+05\n",
      "No. Observations:               21589   AIC:                         5.956e+05\n",
      "Df Residuals:                   21579   BIC:                         5.957e+05\n",
      "Df Model:                           9                                         \n",
      "Covariance Type:            nonrobust                                         \n",
      "=================================================================================\n",
      "                    coef    std err          t      P>|t|      [0.025      0.975]\n",
      "---------------------------------------------------------------------------------\n",
      "const          5.977e+06   1.39e+05     42.946      0.000     5.7e+06    6.25e+06\n",
      "view           8.593e+04   2268.555     37.878      0.000    8.15e+04    9.04e+04\n",
      "bedrooms      -6.223e+04   2285.818    -27.225      0.000   -6.67e+04   -5.78e+04\n",
      "bathrooms      6.924e+04   3795.716     18.240      0.000    6.18e+04    7.67e+04\n",
      "sqft_lot         -0.3693      0.040     -9.215      0.000      -0.448      -0.291\n",
      "sqft_basement   245.4106      4.815     50.967      0.000     235.973     254.848\n",
      "sqft_above      287.2875      3.149     91.237      0.000     281.116     293.459\n",
      "floors          3.96e+04   4054.185      9.767      0.000    3.17e+04    4.75e+04\n",
      "yr_renovated     16.1151      4.617      3.491      0.000       7.066      25.164\n",
      "yr_built      -3060.2739     72.108    -42.440      0.000   -3201.610   -2918.938\n",
      "==============================================================================\n",
      "Omnibus:                    13740.678   Durbin-Watson:                   1.986\n",
      "Prob(Omnibus):                  0.000   Jarque-Bera (JB):           523511.292\n",
      "Skew:                           2.506   Prob(JB):                         0.00\n",
      "Kurtosis:                      26.598   Cond. No.                     3.81e+06\n",
      "==============================================================================\n",
      "\n",
      "Notes:\n",
      "[1] Standard Errors assume that the covariance matrix of the errors is correctly specified.\n",
      "[2] The condition number is large, 3.81e+06. This might indicate that there are\n",
      "strong multicollinearity or other numerical problems.\n"
     ]
    }
   ],
   "source": [
    "x_iterated_four = new_data[[\"view\", \"bedrooms\", \"bathrooms\", \"sqft_lot\", \"sqft_basement\", \"sqft_above\", \n",
    "                           \"floors\", \"yr_renovated\", \"yr_built\"]]\n",
    "iterated_model_four = sm.OLS(y, sm.add_constant(x_iterated_four))\n",
    "iterated_results_four = iterated_model_four.fit()\n",
    "print(iterated_results_four.summary())"
   ]
  },
  {
   "cell_type": "markdown",
   "metadata": {},
   "source": [
    "The fourth model, utilizing only continuous variables, demonstrates an R-squared value of 0.584, indicating that 58.4% of the variance in price is explained. All continuous variables are statistically significant predictors of price. This model outperforms the previous models, suggesting that using only continuous features provides a strong predictive power for price. However, multicollinearity is a potential issue."
   ]
  },
  {
   "cell_type": "markdown",
   "metadata": {},
   "source": [
    "#### d. Model using specific continuous variables\n",
    "We now exclude \"yr_renovated\", \"yr_built\" and constant features to see if our model can improve than the previous models.\n",
    "We have excluded the constant features since our exploratory data analysis indicates that most of these continuous features when compared to price pass through origin except for the years the house was renovated or built."
   ]
  },
  {
   "cell_type": "code",
   "execution_count": 58,
   "metadata": {},
   "outputs": [
    {
     "name": "stdout",
     "output_type": "stream",
     "text": [
      "                                 OLS Regression Results                                \n",
      "=======================================================================================\n",
      "Dep. Variable:                  price   R-squared (uncentered):                   0.843\n",
      "Model:                            OLS   Adj. R-squared (uncentered):              0.843\n",
      "Method:                 Least Squares   F-statistic:                          1.938e+04\n",
      "Date:                Sat, 09 Sep 2023   Prob (F-statistic):                        0.00\n",
      "Time:                        17:16:45   Log-Likelihood:                     -2.9969e+05\n",
      "No. Observations:               21589   AIC:                                  5.994e+05\n",
      "Df Residuals:                   21583   BIC:                                  5.994e+05\n",
      "Df Model:                           6                                                  \n",
      "Covariance Type:            nonrobust                                                  \n",
      "=================================================================================\n",
      "                    coef    std err          t      P>|t|      [0.025      0.975]\n",
      "---------------------------------------------------------------------------------\n",
      "bedrooms      -4.681e+04   1866.661    -25.075      0.000   -5.05e+04   -4.31e+04\n",
      "bathrooms      1.264e+04   3846.375      3.287      0.001    5105.457    2.02e+04\n",
      "sqft_lot         -0.3061      0.043     -7.042      0.000      -0.391      -0.221\n",
      "sqft_basement   334.8007      4.997     66.998      0.000     325.006     344.596\n",
      "sqft_above      299.5728      3.322     90.178      0.000     293.061     306.084\n",
      "floors         2.695e+04   3902.820      6.906      0.000    1.93e+04    3.46e+04\n",
      "==============================================================================\n",
      "Omnibus:                    13765.527   Durbin-Watson:                   1.982\n",
      "Prob(Omnibus):                  0.000   Jarque-Bera (JB):           434576.358\n",
      "Skew:                           2.577   Prob(JB):                         0.00\n",
      "Kurtosis:                      24.367   Cond. No.                     1.17e+05\n",
      "==============================================================================\n",
      "\n",
      "Notes:\n",
      "[1] R² is computed without centering (uncentered) since the model does not contain a constant.\n",
      "[2] Standard Errors assume that the covariance matrix of the errors is correctly specified.\n",
      "[3] The condition number is large, 1.17e+05. This might indicate that there are\n",
      "strong multicollinearity or other numerical problems.\n"
     ]
    }
   ],
   "source": [
    "# Define the variables\n",
    "y = new_data[\"price\"]\n",
    "x_iterated_five = new_data[[\"bedrooms\", \"bathrooms\", \"sqft_lot\", \"sqft_basement\", \"sqft_above\", \"floors\"]]\n",
    "# Create and fit the linear regression model\n",
    "iterated_model_five = sm.OLS(y, x_iterated_five).fit()\n",
    "\n",
    "# Print the summary of the model\n",
    "print(iterated_model_five.summary())"
   ]
  },
  {
   "cell_type": "markdown",
   "metadata": {},
   "source": [
    "The fifth model, using specific continuous variables (bedrooms, bathrooms, sqft_lot, sqft_basement, sqft_above, floors), exhibits an R-squared value of 0.843, indicating a high explanatory power of 84.3%. All selected continuous variables are statistically significant. The model performs exceptionally well, but the absence of a constant term may affect its generalizability. Thus, we consider evaluating its performance on a validation dataset to ensure its validity given that this is the only model that has strongly fitted the data with high explanatory power of more than eighty percent. However, "
   ]
  },
  {
   "cell_type": "markdown",
   "metadata": {},
   "source": [
    "### Performance of the fifth model\n",
    "We first split the data into training and validation sets using train_test_split. Then, we train the model using the training data. Finally, we make predictions on the validation set and evaluate the model's performance."
   ]
  },
  {
   "cell_type": "code",
   "execution_count": 59,
   "metadata": {},
   "outputs": [
    {
     "name": "stdout",
     "output_type": "stream",
     "text": [
      "R-squared on Validation Set: 0.525\n",
      "                                 OLS Regression Results                                \n",
      "=======================================================================================\n",
      "Dep. Variable:                  price   R-squared (uncentered):                   0.844\n",
      "Model:                            OLS   Adj. R-squared (uncentered):              0.844\n",
      "Method:                 Least Squares   F-statistic:                          1.561e+04\n",
      "Date:                Sat, 09 Sep 2023   Prob (F-statistic):                        0.00\n",
      "Time:                        17:16:45   Log-Likelihood:                     -2.3955e+05\n",
      "No. Observations:               17271   AIC:                                  4.791e+05\n",
      "Df Residuals:                   17265   BIC:                                  4.792e+05\n",
      "Df Model:                           6                                                  \n",
      "Covariance Type:            nonrobust                                                  \n",
      "=================================================================================\n",
      "                    coef    std err          t      P>|t|      [0.025      0.975]\n",
      "---------------------------------------------------------------------------------\n",
      "bedrooms      -4.422e+04   2070.722    -21.355      0.000   -4.83e+04   -4.02e+04\n",
      "bathrooms      1.456e+04   4231.292      3.440      0.001    6262.946    2.29e+04\n",
      "sqft_lot         -0.3252      0.048     -6.779      0.000      -0.419      -0.231\n",
      "sqft_basement   324.0707      5.542     58.476      0.000     313.208     334.933\n",
      "sqft_above      291.5526      3.671     79.424      0.000     284.357     298.748\n",
      "floors         2.933e+04   4303.839      6.814      0.000    2.09e+04    3.78e+04\n",
      "==============================================================================\n",
      "Omnibus:                    11002.003   Durbin-Watson:                   1.984\n",
      "Prob(Omnibus):                  0.000   Jarque-Bera (JB):           347603.867\n",
      "Skew:                           2.571   Prob(JB):                         0.00\n",
      "Kurtosis:                      24.368   Cond. No.                     1.17e+05\n",
      "==============================================================================\n",
      "\n",
      "Notes:\n",
      "[1] R² is computed without centering (uncentered) since the model does not contain a constant.\n",
      "[2] Standard Errors assume that the covariance matrix of the errors is correctly specified.\n",
      "[3] The condition number is large, 1.17e+05. This might indicate that there are\n",
      "strong multicollinearity or other numerical problems.\n"
     ]
    }
   ],
   "source": [
    "# Define the dependent variable (y) and independent variables (X)\n",
    "y = new_data[\"price\"]\n",
    "X = new_data[[\"bedrooms\", \"bathrooms\", \"sqft_lot\", \"sqft_basement\", \"sqft_above\", \"floors\"]]\n",
    "\n",
    "# Step 1: Split the data\n",
    "X_train, X_val, y_train, y_val = train_test_split(X, y, test_size=0.2, random_state=42)\n",
    "\n",
    "# Step 2: Train the Model\n",
    "model = sm.OLS(y_train, X_train).fit()\n",
    "\n",
    "# Step 3: Evaluate on the Validation Set\n",
    "y_pred = model.predict(X_val)\n",
    "\n",
    "# Calculate R-squared on the validation set\n",
    "r_squared = 1 - (np.sum((y_val - y_pred)**2) / np.sum((y_val - np.mean(y_val))**2))\n",
    "\n",
    "# Print R-squared value\n",
    "print(f\"R-squared on Validation Set: {r_squared:.3f}\")\n",
    "# Print model summary\n",
    "print(model.summary())"
   ]
  },
  {
   "cell_type": "markdown",
   "metadata": {},
   "source": [
    "The fifth model, using specific continuous variables, achieves an impressive R-squared value of 0.844 on the validation set. This indicates that approximately 84.4% of the variance in housing prices is explained by the model. The chosen features (bedrooms, bathrooms, sqft_lot, sqft_basement, sqft_above, floors) are highly influential in predicting prices."
   ]
  },
  {
   "cell_type": "markdown",
   "metadata": {},
   "source": [
    "#### Fifth Model Residuals"
   ]
  },
  {
   "cell_type": "code",
   "execution_count": 60,
   "metadata": {
    "scrolled": true
   },
   "outputs": [
    {
     "name": "stdout",
     "output_type": "stream",
     "text": [
      "20120   -246095.668361\n",
      "4834    -222790.457435\n",
      "3820     167982.764659\n",
      "18739    347461.525712\n",
      "8613     -54184.090200\n",
      "             ...      \n",
      "4992    -142233.645741\n",
      "7079    -123847.848159\n",
      "17598    265233.070629\n",
      "16956   -274663.737118\n",
      "6239        486.882108\n",
      "Length: 4318, dtype: float64\n"
     ]
    }
   ],
   "source": [
    "# Step 4: Compute Residuals\n",
    "residuals = y_val - y_pred\n",
    "print(residuals)"
   ]
  },
  {
   "cell_type": "markdown",
   "metadata": {},
   "source": [
    "##### Visual representation of the fifth model residuals"
   ]
  },
  {
   "cell_type": "code",
   "execution_count": 61,
   "metadata": {},
   "outputs": [
    {
     "data": {
      "image/png": "[encoded data removed]",
      "text/plain": [
       "<Figure size 720x432 with 1 Axes>"
      ]
     },
     "metadata": {
      "needs_background": "light"
     },
     "output_type": "display_data"
    }
   ],
   "source": [
    "# Step 5: Plot Residuals\n",
    "plt.figure(figsize=(10, 6))\n",
    "plt.scatter(y_pred, residuals, alpha=0.5)\n",
    "plt.title(\"Residuals vs. Fitted\")\n",
    "plt.xlabel(\"Fitted Values\")\n",
    "plt.ylabel(\"Residuals\")\n",
    "plt.show()"
   ]
  },
  {
   "cell_type": "markdown",
   "metadata": {},
   "source": [
    "The scatterplot above shows that the model tends to make accurate predictions, with a majority of residuals clustering around zero. This suggests that the model generally captures the variance in the data well, as evidenced by the close alignment between predicted and actual prices"
   ]
  },
  {
   "cell_type": "code",
   "execution_count": null,
   "metadata": {},
   "outputs": [],
   "source": [
    "id - Unique identifier for a house\n",
    "date - Date house was sold\n",
    "price - Sale price (prediction target)\n",
    "bedrooms - Number of bedrooms\n",
    "bathrooms - Number of bathrooms\n",
    "sqft_living - Square footage of living space in the home\n",
    "sqft_lot - Square footage of the lot\n",
    "floors - Number of floors (levels) in house\n",
    "waterfront - Whether the house is on a waterfront\n",
    "view - Quality of view from house\n",
    "condition - How good the overall condition of the house is. Related to maintenance of house.\n",
    "grade - Overall grade of the house. Related to the construction and design of the house.\n",
    "sqft_above - Square footage of house apart from basement\n",
    "sqft_basement - Square footage of the basement\n",
    "yr_built - Year when house was built\n",
    "yr_renovated - Year when house was renovated\n",
    "zipcode - ZIP Code used by the United States Postal Service\n",
    "lat - Latitude coordinate\n",
    "long - Longitude coordinate\n",
    "sqft_living15 - The square footage of interior housing living space for the nearest 15 neighbors\n",
    "sqft_lot15 - The square footage of the land lots of the nearest 15 neighbors"
   ]
  },
  {
   "cell_type": "markdown",
   "metadata": {},
   "source": [
    "### Summary and Recommendations\n",
    "#### Summary:\n",
    "In this comprehensive analysis of house sales data for a northwestern county, multiple linear regression models were employed to understand the factors influencing house prices. The dataset contained information on various features like bedrooms, bathrooms, square footage, condition, grade, and more. Some unnecessary features of the dataset were dropped since they were not relevant for our research questions. \n",
    "\n",
    "#### Findings emerged from the analysis:\n",
    "\n",
    "Significant Predictors: The regression models revealed that certain features strongly influence house prices. These include the number of bedrooms, bathrooms, square footage, condition, grade, and view. However, number of bedrooms, bathrooms, Square footage of the lot, Square footage of the basement, Square footage of house apart from basement and Number of floors (levels) in house seemed to be the best in explaining the house prices.\n",
    "\n",
    "High Predictive Power: The best-performing model, using specific continuous variables mentioned above, achieved an R-squared value of 0.844, indicating that approximately 84.4% of the variance in housing prices can be explained by the model.\n",
    "\n",
    "#### Recommendations: \n",
    "\n",
    "Based on the analysis, several recommendations can be made to assist homeowners and Weichert Realtors:\n",
    "\n",
    "a. Renovations Impact on Price: Emphasize the importance of specific renovations, such as increasing number of bedrooms, bathrooms, Square footage of the lot, Square footage of the basement, Square footage of house apart from basement and Number of floors (levels) in house\n",
    "\n",
    "b. Maximizing ROI: Advise homeowners on renovations that are likely to yield the highest return on investment.\n",
    "\n",
    "c. Consider Square Footage: Highlight the significance of square footage in determining the value of a property.\n",
    "\n",
    "#### Additional Considerations:\n",
    "\n",
    "Further Data Exploration: Exploring additional variables, such as location-related features or neighborhood characteristics, could provide deeper insights into price determinants.\n",
    "\n",
    "Continuous Monitoring: Keep track of market trends and adjust recommendations accordingly to stay competitive and provide the most up-to-date advice.\n",
    "\n",
    "Model Validation: Continually validate the models with new data to ensure their accuracy and relevance in the evolving real estate market.\n",
    "\n",
    "Multicollinearity Assessment: Monitor for multicollinearity issues, especially in models with multiple predictors, to ensure the stability of the regression coefficients.\n",
    "\n",
    "By leveraging these insights and recommendations, Weichert Realtors can offer valuable guidance to homeowners, strengthen client relationships, and potentially increase business in the northwestern county real estate market."
   ]
  }
 ],
 "metadata": {
  "kernelspec": {
   "display_name": "Python 3",
   "language": "python",
   "name": "python3"
  },
  "language_info": {
   "codemirror_mode": {
    "name": "ipython",
    "version": 3
   },
   "file_extension": ".py",
   "mimetype": "text/x-python",
   "name": "python",
   "nbconvert_exporter": "python",
   "pygments_lexer": "ipython3",
   "version": "3.8.5"
  }
 },
 "nbformat": 4,
 "nbformat_minor": 2
}
